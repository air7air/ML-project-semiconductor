{
 "cells": [
  {
   "cell_type": "code",
   "execution_count": 18,
   "metadata": {},
   "outputs": [],
   "source": [
    "# RMS, MAE같은 측도를 씀\n",
    "# y value의 유닛을 봐야함\n",
    "# 집값이 얼마 차이가 난다.하지만 1970년대에 1만불이었을때 물기상승률을 생각해보면 그렇게 오른게 아닐수도 있다고 써야함\n",
    "\n",
    "#rmse\n",
    "def root_mean_squared_error(y_true, y_pred):\n",
    "    return np.sqrt(mean_squared_error(y_true,y_pred))\n",
    "\n",
    "#mape\n",
    "def mean_absolute_percentage_error(y_true, y_pred):\n",
    "    return np.mean(np.abs((y_true-y_pred)/y_true))*100"
   ]
  },
  {
   "cell_type": "code",
   "execution_count": 3,
   "metadata": {},
   "outputs": [],
   "source": [
    "import pandas as pd\n",
    "import numpy as np\n",
    "from numpy.random import randn\n",
    "import matplotlib.pyplot as plt\n",
    "import matplotlib\n",
    "import seaborn as sns\n",
    "\n",
    "from statsmodels.formula.api import ols\n",
    "from statsmodels.api import qqplot, add_constant\n",
    "import statsmodels.formula.api as smf\n",
    "from statsmodels.tools.eval_measures import rmse\n",
    "%matplotlib inline\n",
    "\n",
    "from statsmodels.stats.outliers_influence import variance_inflation_factor\n",
    "from sklearn.linear_model import LinearRegression\n",
    "from sklearn.feature_selection import RFE\n",
    "from sklearn.preprocessing import StandardScaler\n",
    "\n",
    "from sklearn.tree import export_graphviz\n",
    "import graphviz\n",
    "from sklearn.model_selection import train_test_split\n",
    "from sklearn.tree import DecisionTreeRegressor\n",
    "from sklearn.model_selection import GridSearchCV\n",
    "from sklearn.metrics import confusion_matrix\n",
    "from sklearn.metrics import (r2_score, mean_absolute_error,mean_squared_error)\n",
    "from sklearn.metrics import confusion_matrix\n",
    "from sklearn.svm import SVC\n",
    "from statsmodels.api import Logit\n",
    "from sklearn.neural_network import MLPClassifier\n",
    "from sklearn.metrics import confusion_matrix\n",
    "\n",
    "import matplotlib.pyplot as plt\n",
    "import numpy as np\n",
    "import pandas as pd\n",
    "from pandas import DataFrame, Series\n",
    "import seaborn as sns\n",
    "from sklearn.tree import DecisionTreeClassifier\n",
    "from sklearn.ensemble import RandomForestClassifier\n",
    "from sklearn.ensemble import GradientBoostingRegressor\n",
    "from statsmodels.api import Logit"
   ]
  },
  {
   "cell_type": "markdown",
   "metadata": {},
   "source": [
    "### 데이터셋 구성"
   ]
  },
  {
   "cell_type": "code",
   "execution_count": 4,
   "metadata": {
    "scrolled": true
   },
   "outputs": [
    {
     "data": {
      "text/html": [
       "<div>\n",
       "<style scoped>\n",
       "    .dataframe tbody tr th:only-of-type {\n",
       "        vertical-align: middle;\n",
       "    }\n",
       "\n",
       "    .dataframe tbody tr th {\n",
       "        vertical-align: top;\n",
       "    }\n",
       "\n",
       "    .dataframe thead th {\n",
       "        text-align: right;\n",
       "    }\n",
       "</style>\n",
       "<table border=\"1\" class=\"dataframe\">\n",
       "  <thead>\n",
       "    <tr style=\"text-align: right;\">\n",
       "      <th></th>\n",
       "      <th>PLATE_NO</th>\n",
       "      <th>ROLLING_DATE</th>\n",
       "      <th>SCALE</th>\n",
       "      <th>SPEC</th>\n",
       "      <th>STEEL_KIND</th>\n",
       "      <th>PT_THK</th>\n",
       "      <th>PT_WDTH</th>\n",
       "      <th>PT_LTH</th>\n",
       "      <th>PT_WGT</th>\n",
       "      <th>FUR_NO</th>\n",
       "      <th>...</th>\n",
       "      <th>FUR_HZ_TEMP</th>\n",
       "      <th>FUR_HZ_TIME</th>\n",
       "      <th>FUR_SZ_TEMP</th>\n",
       "      <th>FUR_SZ_TIME</th>\n",
       "      <th>FUR_TIME</th>\n",
       "      <th>FUR_EXTEMP</th>\n",
       "      <th>ROLLING_TEMP_T5</th>\n",
       "      <th>HSB</th>\n",
       "      <th>ROLLING_DESCALING</th>\n",
       "      <th>WORK_GR</th>\n",
       "    </tr>\n",
       "  </thead>\n",
       "  <tbody>\n",
       "    <tr>\n",
       "      <th>0</th>\n",
       "      <td>PB562928</td>\n",
       "      <td>2008-08-01:08:82:22</td>\n",
       "      <td>1</td>\n",
       "      <td>21</td>\n",
       "      <td>4</td>\n",
       "      <td>40.00</td>\n",
       "      <td>2464</td>\n",
       "      <td>25077</td>\n",
       "      <td>77920</td>\n",
       "      <td>2</td>\n",
       "      <td>...</td>\n",
       "      <td>1174</td>\n",
       "      <td>74</td>\n",
       "      <td>1167</td>\n",
       "      <td>60</td>\n",
       "      <td>312</td>\n",
       "      <td>1167</td>\n",
       "      <td>1078.0</td>\n",
       "      <td>1</td>\n",
       "      <td>6</td>\n",
       "      <td>3</td>\n",
       "    </tr>\n",
       "    <tr>\n",
       "      <th>1</th>\n",
       "      <td>PB563329</td>\n",
       "      <td>2008-08-02:07:71:13</td>\n",
       "      <td>1</td>\n",
       "      <td>22</td>\n",
       "      <td>4</td>\n",
       "      <td>40.00</td>\n",
       "      <td>2464</td>\n",
       "      <td>26416</td>\n",
       "      <td>41040</td>\n",
       "      <td>2</td>\n",
       "      <td>...</td>\n",
       "      <td>1135</td>\n",
       "      <td>101</td>\n",
       "      <td>1152</td>\n",
       "      <td>66</td>\n",
       "      <td>342</td>\n",
       "      <td>1152</td>\n",
       "      <td>1071.0</td>\n",
       "      <td>1</td>\n",
       "      <td>6</td>\n",
       "      <td>3</td>\n",
       "    </tr>\n",
       "    <tr>\n",
       "      <th>2</th>\n",
       "      <td>PB562931</td>\n",
       "      <td>2008-08-01:08:82:11</td>\n",
       "      <td>1</td>\n",
       "      <td>21</td>\n",
       "      <td>4</td>\n",
       "      <td>40.00</td>\n",
       "      <td>2503</td>\n",
       "      <td>10511</td>\n",
       "      <td>33160</td>\n",
       "      <td>1</td>\n",
       "      <td>...</td>\n",
       "      <td>1157</td>\n",
       "      <td>68</td>\n",
       "      <td>1159</td>\n",
       "      <td>67</td>\n",
       "      <td>312</td>\n",
       "      <td>1159</td>\n",
       "      <td>1068.0</td>\n",
       "      <td>1</td>\n",
       "      <td>6</td>\n",
       "      <td>3</td>\n",
       "    </tr>\n",
       "    <tr>\n",
       "      <th>3</th>\n",
       "      <td>PB562929</td>\n",
       "      <td>2008-08-01:08:82:02</td>\n",
       "      <td>1</td>\n",
       "      <td>21</td>\n",
       "      <td>4</td>\n",
       "      <td>40.00</td>\n",
       "      <td>2464</td>\n",
       "      <td>25077</td>\n",
       "      <td>77920</td>\n",
       "      <td>2</td>\n",
       "      <td>...</td>\n",
       "      <td>1167</td>\n",
       "      <td>77</td>\n",
       "      <td>1165</td>\n",
       "      <td>58</td>\n",
       "      <td>308</td>\n",
       "      <td>1165</td>\n",
       "      <td>1066.0</td>\n",
       "      <td>1</td>\n",
       "      <td>6</td>\n",
       "      <td>1</td>\n",
       "    </tr>\n",
       "    <tr>\n",
       "      <th>4</th>\n",
       "      <td>PB562927</td>\n",
       "      <td>2008-08-01:08:81:45</td>\n",
       "      <td>1</td>\n",
       "      <td>21</td>\n",
       "      <td>4</td>\n",
       "      <td>35.15</td>\n",
       "      <td>2466</td>\n",
       "      <td>31229</td>\n",
       "      <td>106250</td>\n",
       "      <td>3</td>\n",
       "      <td>...</td>\n",
       "      <td>1164</td>\n",
       "      <td>79</td>\n",
       "      <td>1167</td>\n",
       "      <td>61</td>\n",
       "      <td>296</td>\n",
       "      <td>1167</td>\n",
       "      <td>1062.0</td>\n",
       "      <td>1</td>\n",
       "      <td>8</td>\n",
       "      <td>3</td>\n",
       "    </tr>\n",
       "  </tbody>\n",
       "</table>\n",
       "<p>5 rows × 21 columns</p>\n",
       "</div>"
      ],
      "text/plain": [
       "   PLATE_NO         ROLLING_DATE  SCALE  SPEC  STEEL_KIND  PT_THK  PT_WDTH  \\\n",
       "0  PB562928  2008-08-01:08:82:22      1    21           4   40.00     2464   \n",
       "1  PB563329  2008-08-02:07:71:13      1    22           4   40.00     2464   \n",
       "2  PB562931  2008-08-01:08:82:11      1    21           4   40.00     2503   \n",
       "3  PB562929  2008-08-01:08:82:02      1    21           4   40.00     2464   \n",
       "4  PB562927  2008-08-01:08:81:45      1    21           4   35.15     2466   \n",
       "\n",
       "   PT_LTH  PT_WGT  FUR_NO  ...  FUR_HZ_TEMP  FUR_HZ_TIME  FUR_SZ_TEMP  \\\n",
       "0   25077   77920       2  ...         1174           74         1167   \n",
       "1   26416   41040       2  ...         1135          101         1152   \n",
       "2   10511   33160       1  ...         1157           68         1159   \n",
       "3   25077   77920       2  ...         1167           77         1165   \n",
       "4   31229  106250       3  ...         1164           79         1167   \n",
       "\n",
       "   FUR_SZ_TIME  FUR_TIME  FUR_EXTEMP  ROLLING_TEMP_T5  HSB  ROLLING_DESCALING  \\\n",
       "0           60       312        1167           1078.0    1                  6   \n",
       "1           66       342        1152           1071.0    1                  6   \n",
       "2           67       312        1159           1068.0    1                  6   \n",
       "3           58       308        1165           1066.0    1                  6   \n",
       "4           61       296        1167           1062.0    1                  8   \n",
       "\n",
       "   WORK_GR  \n",
       "0        3  \n",
       "1        3  \n",
       "2        3  \n",
       "3        1  \n",
       "4        3  \n",
       "\n",
       "[5 rows x 21 columns]"
      ]
     },
     "execution_count": 4,
     "metadata": {},
     "output_type": "execute_result"
    }
   ],
   "source": [
    "df_raw = pd.read_csv(\"SCALE불량범주화이상치변화.csv\", engine = \"python\", encoding='cp949')\n",
    "df_raw.head()"
   ]
  },
  {
   "cell_type": "code",
   "execution_count": 5,
   "metadata": {},
   "outputs": [],
   "source": [
    "df_raw= df_raw.drop([\"PLATE_NO\",\"ROLLING_DATE\"],axis=1)"
   ]
  },
  {
   "cell_type": "code",
   "execution_count": 23,
   "metadata": {
    "scrolled": true
   },
   "outputs": [
    {
     "data": {
      "text/html": [
       "<div>\n",
       "<style scoped>\n",
       "    .dataframe tbody tr th:only-of-type {\n",
       "        vertical-align: middle;\n",
       "    }\n",
       "\n",
       "    .dataframe tbody tr th {\n",
       "        vertical-align: top;\n",
       "    }\n",
       "\n",
       "    .dataframe thead th {\n",
       "        text-align: right;\n",
       "    }\n",
       "</style>\n",
       "<table border=\"1\" class=\"dataframe\">\n",
       "  <thead>\n",
       "    <tr style=\"text-align: right;\">\n",
       "      <th></th>\n",
       "      <th>SCALE</th>\n",
       "      <th>SPEC</th>\n",
       "      <th>STEEL_KIND</th>\n",
       "      <th>PT_THK</th>\n",
       "      <th>PT_WDTH</th>\n",
       "      <th>PT_LTH</th>\n",
       "      <th>PT_WGT</th>\n",
       "      <th>FUR_NO</th>\n",
       "      <th>FUR_NO_ROW</th>\n",
       "      <th>FUR_HZ_TEMP</th>\n",
       "      <th>FUR_HZ_TIME</th>\n",
       "      <th>FUR_SZ_TEMP</th>\n",
       "      <th>FUR_SZ_TIME</th>\n",
       "      <th>FUR_TIME</th>\n",
       "      <th>FUR_EXTEMP</th>\n",
       "      <th>ROLLING_TEMP_T5</th>\n",
       "      <th>HSB</th>\n",
       "      <th>ROLLING_DESCALING</th>\n",
       "      <th>WORK_GR</th>\n",
       "    </tr>\n",
       "  </thead>\n",
       "  <tbody>\n",
       "    <tr>\n",
       "      <th>0</th>\n",
       "      <td>1</td>\n",
       "      <td>21</td>\n",
       "      <td>4</td>\n",
       "      <td>40.00</td>\n",
       "      <td>2464</td>\n",
       "      <td>25077</td>\n",
       "      <td>77920</td>\n",
       "      <td>2</td>\n",
       "      <td>1</td>\n",
       "      <td>1174</td>\n",
       "      <td>74</td>\n",
       "      <td>1167</td>\n",
       "      <td>60</td>\n",
       "      <td>312</td>\n",
       "      <td>1167</td>\n",
       "      <td>1078.00</td>\n",
       "      <td>1</td>\n",
       "      <td>6</td>\n",
       "      <td>3</td>\n",
       "    </tr>\n",
       "    <tr>\n",
       "      <th>1</th>\n",
       "      <td>1</td>\n",
       "      <td>22</td>\n",
       "      <td>4</td>\n",
       "      <td>40.00</td>\n",
       "      <td>2464</td>\n",
       "      <td>26416</td>\n",
       "      <td>41040</td>\n",
       "      <td>2</td>\n",
       "      <td>1</td>\n",
       "      <td>1135</td>\n",
       "      <td>101</td>\n",
       "      <td>1152</td>\n",
       "      <td>66</td>\n",
       "      <td>342</td>\n",
       "      <td>1152</td>\n",
       "      <td>1071.00</td>\n",
       "      <td>1</td>\n",
       "      <td>6</td>\n",
       "      <td>3</td>\n",
       "    </tr>\n",
       "    <tr>\n",
       "      <th>2</th>\n",
       "      <td>1</td>\n",
       "      <td>21</td>\n",
       "      <td>4</td>\n",
       "      <td>40.00</td>\n",
       "      <td>2503</td>\n",
       "      <td>10511</td>\n",
       "      <td>33160</td>\n",
       "      <td>1</td>\n",
       "      <td>2</td>\n",
       "      <td>1157</td>\n",
       "      <td>68</td>\n",
       "      <td>1159</td>\n",
       "      <td>67</td>\n",
       "      <td>312</td>\n",
       "      <td>1159</td>\n",
       "      <td>1068.00</td>\n",
       "      <td>1</td>\n",
       "      <td>6</td>\n",
       "      <td>3</td>\n",
       "    </tr>\n",
       "    <tr>\n",
       "      <th>3</th>\n",
       "      <td>1</td>\n",
       "      <td>21</td>\n",
       "      <td>4</td>\n",
       "      <td>40.00</td>\n",
       "      <td>2464</td>\n",
       "      <td>25077</td>\n",
       "      <td>77920</td>\n",
       "      <td>2</td>\n",
       "      <td>2</td>\n",
       "      <td>1167</td>\n",
       "      <td>77</td>\n",
       "      <td>1165</td>\n",
       "      <td>58</td>\n",
       "      <td>308</td>\n",
       "      <td>1165</td>\n",
       "      <td>1066.00</td>\n",
       "      <td>1</td>\n",
       "      <td>6</td>\n",
       "      <td>1</td>\n",
       "    </tr>\n",
       "    <tr>\n",
       "      <th>4</th>\n",
       "      <td>1</td>\n",
       "      <td>21</td>\n",
       "      <td>4</td>\n",
       "      <td>35.15</td>\n",
       "      <td>2466</td>\n",
       "      <td>31229</td>\n",
       "      <td>106250</td>\n",
       "      <td>3</td>\n",
       "      <td>2</td>\n",
       "      <td>1164</td>\n",
       "      <td>79</td>\n",
       "      <td>1167</td>\n",
       "      <td>61</td>\n",
       "      <td>296</td>\n",
       "      <td>1167</td>\n",
       "      <td>1062.00</td>\n",
       "      <td>1</td>\n",
       "      <td>8</td>\n",
       "      <td>3</td>\n",
       "    </tr>\n",
       "    <tr>\n",
       "      <th>...</th>\n",
       "      <td>...</td>\n",
       "      <td>...</td>\n",
       "      <td>...</td>\n",
       "      <td>...</td>\n",
       "      <td>...</td>\n",
       "      <td>...</td>\n",
       "      <td>...</td>\n",
       "      <td>...</td>\n",
       "      <td>...</td>\n",
       "      <td>...</td>\n",
       "      <td>...</td>\n",
       "      <td>...</td>\n",
       "      <td>...</td>\n",
       "      <td>...</td>\n",
       "      <td>...</td>\n",
       "      <td>...</td>\n",
       "      <td>...</td>\n",
       "      <td>...</td>\n",
       "      <td>...</td>\n",
       "    </tr>\n",
       "    <tr>\n",
       "      <th>715</th>\n",
       "      <td>0</td>\n",
       "      <td>52</td>\n",
       "      <td>2</td>\n",
       "      <td>40.00</td>\n",
       "      <td>2497</td>\n",
       "      <td>23592</td>\n",
       "      <td>37320</td>\n",
       "      <td>3</td>\n",
       "      <td>1</td>\n",
       "      <td>1119</td>\n",
       "      <td>101</td>\n",
       "      <td>1117</td>\n",
       "      <td>76</td>\n",
       "      <td>383</td>\n",
       "      <td>1117</td>\n",
       "      <td>889.75</td>\n",
       "      <td>1</td>\n",
       "      <td>6</td>\n",
       "      <td>3</td>\n",
       "    </tr>\n",
       "    <tr>\n",
       "      <th>716</th>\n",
       "      <td>0</td>\n",
       "      <td>11</td>\n",
       "      <td>4</td>\n",
       "      <td>16.09</td>\n",
       "      <td>2221</td>\n",
       "      <td>43596</td>\n",
       "      <td>61150</td>\n",
       "      <td>3</td>\n",
       "      <td>2</td>\n",
       "      <td>1163</td>\n",
       "      <td>57</td>\n",
       "      <td>1166</td>\n",
       "      <td>67</td>\n",
       "      <td>303</td>\n",
       "      <td>1166</td>\n",
       "      <td>889.75</td>\n",
       "      <td>1</td>\n",
       "      <td>10</td>\n",
       "      <td>4</td>\n",
       "    </tr>\n",
       "    <tr>\n",
       "      <th>717</th>\n",
       "      <td>0</td>\n",
       "      <td>11</td>\n",
       "      <td>4</td>\n",
       "      <td>16.09</td>\n",
       "      <td>2221</td>\n",
       "      <td>43596</td>\n",
       "      <td>61150</td>\n",
       "      <td>3</td>\n",
       "      <td>1</td>\n",
       "      <td>1169</td>\n",
       "      <td>64</td>\n",
       "      <td>1164</td>\n",
       "      <td>61</td>\n",
       "      <td>308</td>\n",
       "      <td>1164</td>\n",
       "      <td>889.75</td>\n",
       "      <td>1</td>\n",
       "      <td>10</td>\n",
       "      <td>3</td>\n",
       "    </tr>\n",
       "    <tr>\n",
       "      <th>718</th>\n",
       "      <td>0</td>\n",
       "      <td>55</td>\n",
       "      <td>3</td>\n",
       "      <td>40.00</td>\n",
       "      <td>2085</td>\n",
       "      <td>13176</td>\n",
       "      <td>17430</td>\n",
       "      <td>1</td>\n",
       "      <td>2</td>\n",
       "      <td>1130</td>\n",
       "      <td>92</td>\n",
       "      <td>1124</td>\n",
       "      <td>61</td>\n",
       "      <td>362</td>\n",
       "      <td>1124</td>\n",
       "      <td>889.75</td>\n",
       "      <td>1</td>\n",
       "      <td>6</td>\n",
       "      <td>3</td>\n",
       "    </tr>\n",
       "    <tr>\n",
       "      <th>719</th>\n",
       "      <td>0</td>\n",
       "      <td>55</td>\n",
       "      <td>3</td>\n",
       "      <td>40.00</td>\n",
       "      <td>2085</td>\n",
       "      <td>12919</td>\n",
       "      <td>17090</td>\n",
       "      <td>2</td>\n",
       "      <td>1</td>\n",
       "      <td>1133</td>\n",
       "      <td>89</td>\n",
       "      <td>1122</td>\n",
       "      <td>59</td>\n",
       "      <td>378</td>\n",
       "      <td>1122</td>\n",
       "      <td>889.75</td>\n",
       "      <td>1</td>\n",
       "      <td>6</td>\n",
       "      <td>2</td>\n",
       "    </tr>\n",
       "  </tbody>\n",
       "</table>\n",
       "<p>720 rows × 19 columns</p>\n",
       "</div>"
      ],
      "text/plain": [
       "     SCALE  SPEC  STEEL_KIND  PT_THK  PT_WDTH  PT_LTH  PT_WGT  FUR_NO  \\\n",
       "0        1    21           4   40.00     2464   25077   77920       2   \n",
       "1        1    22           4   40.00     2464   26416   41040       2   \n",
       "2        1    21           4   40.00     2503   10511   33160       1   \n",
       "3        1    21           4   40.00     2464   25077   77920       2   \n",
       "4        1    21           4   35.15     2466   31229  106250       3   \n",
       "..     ...   ...         ...     ...      ...     ...     ...     ...   \n",
       "715      0    52           2   40.00     2497   23592   37320       3   \n",
       "716      0    11           4   16.09     2221   43596   61150       3   \n",
       "717      0    11           4   16.09     2221   43596   61150       3   \n",
       "718      0    55           3   40.00     2085   13176   17430       1   \n",
       "719      0    55           3   40.00     2085   12919   17090       2   \n",
       "\n",
       "     FUR_NO_ROW  FUR_HZ_TEMP  FUR_HZ_TIME  FUR_SZ_TEMP  FUR_SZ_TIME  FUR_TIME  \\\n",
       "0             1         1174           74         1167           60       312   \n",
       "1             1         1135          101         1152           66       342   \n",
       "2             2         1157           68         1159           67       312   \n",
       "3             2         1167           77         1165           58       308   \n",
       "4             2         1164           79         1167           61       296   \n",
       "..          ...          ...          ...          ...          ...       ...   \n",
       "715           1         1119          101         1117           76       383   \n",
       "716           2         1163           57         1166           67       303   \n",
       "717           1         1169           64         1164           61       308   \n",
       "718           2         1130           92         1124           61       362   \n",
       "719           1         1133           89         1122           59       378   \n",
       "\n",
       "     FUR_EXTEMP  ROLLING_TEMP_T5  HSB  ROLLING_DESCALING  WORK_GR  \n",
       "0          1167          1078.00    1                  6        3  \n",
       "1          1152          1071.00    1                  6        3  \n",
       "2          1159          1068.00    1                  6        3  \n",
       "3          1165          1066.00    1                  6        1  \n",
       "4          1167          1062.00    1                  8        3  \n",
       "..          ...              ...  ...                ...      ...  \n",
       "715        1117           889.75    1                  6        3  \n",
       "716        1166           889.75    1                 10        4  \n",
       "717        1164           889.75    1                 10        3  \n",
       "718        1124           889.75    1                  6        3  \n",
       "719        1122           889.75    1                  6        2  \n",
       "\n",
       "[720 rows x 19 columns]"
      ]
     },
     "execution_count": 23,
     "metadata": {},
     "output_type": "execute_result"
    }
   ],
   "source": [
    "df_raw"
   ]
  },
  {
   "cell_type": "markdown",
   "metadata": {},
   "source": [
    "# 스케일 변화"
   ]
  },
  {
   "cell_type": "code",
   "execution_count": 6,
   "metadata": {},
   "outputs": [],
   "source": [
    "v_feature_name=df_raw.columns\n",
    "\n",
    "scaler=StandardScaler()\n",
    "df_scaled=scaler.fit_transform(df_raw)\n",
    "df_scaled=pd.DataFrame(df_scaled, columns=v_feature_name)\n",
    "df_scaled.head()\n",
    "df_raw=df_scaled"
   ]
  },
  {
   "cell_type": "code",
   "execution_count": 7,
   "metadata": {},
   "outputs": [
    {
     "data": {
      "text/html": [
       "<div>\n",
       "<style scoped>\n",
       "    .dataframe tbody tr th:only-of-type {\n",
       "        vertical-align: middle;\n",
       "    }\n",
       "\n",
       "    .dataframe tbody tr th {\n",
       "        vertical-align: top;\n",
       "    }\n",
       "\n",
       "    .dataframe thead th {\n",
       "        text-align: right;\n",
       "    }\n",
       "</style>\n",
       "<table border=\"1\" class=\"dataframe\">\n",
       "  <thead>\n",
       "    <tr style=\"text-align: right;\">\n",
       "      <th></th>\n",
       "      <th>SCALE</th>\n",
       "      <th>SPEC</th>\n",
       "      <th>STEEL_KIND</th>\n",
       "      <th>PT_THK</th>\n",
       "      <th>PT_WDTH</th>\n",
       "      <th>PT_LTH</th>\n",
       "      <th>PT_WGT</th>\n",
       "      <th>FUR_NO</th>\n",
       "      <th>FUR_NO_ROW</th>\n",
       "      <th>FUR_HZ_TEMP</th>\n",
       "      <th>FUR_HZ_TIME</th>\n",
       "      <th>FUR_SZ_TEMP</th>\n",
       "      <th>FUR_SZ_TIME</th>\n",
       "      <th>FUR_TIME</th>\n",
       "      <th>FUR_EXTEMP</th>\n",
       "      <th>ROLLING_TEMP_T5</th>\n",
       "      <th>HSB</th>\n",
       "      <th>ROLLING_DESCALING</th>\n",
       "      <th>WORK_GR</th>\n",
       "    </tr>\n",
       "  </thead>\n",
       "  <tbody>\n",
       "    <tr>\n",
       "      <th>0</th>\n",
       "      <td>1.454951</td>\n",
       "      <td>-0.122638</td>\n",
       "      <td>0.300863</td>\n",
       "      <td>1.446244</td>\n",
       "      <td>-0.670963</td>\n",
       "      <td>-0.669107</td>\n",
       "      <td>1.473196</td>\n",
       "      <td>-0.005087</td>\n",
       "      <td>-0.994460</td>\n",
       "      <td>0.894936</td>\n",
       "      <td>-0.291598</td>\n",
       "      <td>0.987115</td>\n",
       "      <td>-0.642224</td>\n",
       "      <td>0.252126</td>\n",
       "      <td>0.987115</td>\n",
       "      <td>2.476312</td>\n",
       "      <td>0.219169</td>\n",
       "      <td>-1.429880</td>\n",
       "      <td>0.422914</td>\n",
       "    </tr>\n",
       "    <tr>\n",
       "      <th>1</th>\n",
       "      <td>1.454951</td>\n",
       "      <td>-0.065151</td>\n",
       "      <td>0.300863</td>\n",
       "      <td>1.446244</td>\n",
       "      <td>-0.670963</td>\n",
       "      <td>-0.572210</td>\n",
       "      <td>-0.017861</td>\n",
       "      <td>-0.005087</td>\n",
       "      <td>-0.994460</td>\n",
       "      <td>-0.975397</td>\n",
       "      <td>1.368819</td>\n",
       "      <td>0.132881</td>\n",
       "      <td>-0.195603</td>\n",
       "      <td>0.913519</td>\n",
       "      <td>0.132881</td>\n",
       "      <td>2.339751</td>\n",
       "      <td>0.219169</td>\n",
       "      <td>-1.429880</td>\n",
       "      <td>0.422914</td>\n",
       "    </tr>\n",
       "    <tr>\n",
       "      <th>2</th>\n",
       "      <td>1.454951</td>\n",
       "      <td>-0.122638</td>\n",
       "      <td>0.300863</td>\n",
       "      <td>1.446244</td>\n",
       "      <td>-0.567247</td>\n",
       "      <td>-1.723176</td>\n",
       "      <td>-0.336449</td>\n",
       "      <td>-1.226038</td>\n",
       "      <td>1.005571</td>\n",
       "      <td>0.079662</td>\n",
       "      <td>-0.660579</td>\n",
       "      <td>0.531524</td>\n",
       "      <td>-0.121167</td>\n",
       "      <td>0.252126</td>\n",
       "      <td>0.531524</td>\n",
       "      <td>2.281224</td>\n",
       "      <td>0.219169</td>\n",
       "      <td>-1.429880</td>\n",
       "      <td>0.422914</td>\n",
       "    </tr>\n",
       "    <tr>\n",
       "      <th>3</th>\n",
       "      <td>1.454951</td>\n",
       "      <td>-0.122638</td>\n",
       "      <td>0.300863</td>\n",
       "      <td>1.446244</td>\n",
       "      <td>-0.670963</td>\n",
       "      <td>-0.669107</td>\n",
       "      <td>1.473196</td>\n",
       "      <td>-0.005087</td>\n",
       "      <td>1.005571</td>\n",
       "      <td>0.559235</td>\n",
       "      <td>-0.107107</td>\n",
       "      <td>0.873217</td>\n",
       "      <td>-0.791098</td>\n",
       "      <td>0.163940</td>\n",
       "      <td>0.873217</td>\n",
       "      <td>2.242207</td>\n",
       "      <td>0.219169</td>\n",
       "      <td>-1.429880</td>\n",
       "      <td>-1.322061</td>\n",
       "    </tr>\n",
       "    <tr>\n",
       "      <th>4</th>\n",
       "      <td>1.454951</td>\n",
       "      <td>-0.122638</td>\n",
       "      <td>0.300863</td>\n",
       "      <td>0.984812</td>\n",
       "      <td>-0.665645</td>\n",
       "      <td>-0.223917</td>\n",
       "      <td>2.618577</td>\n",
       "      <td>1.215864</td>\n",
       "      <td>1.005571</td>\n",
       "      <td>0.415363</td>\n",
       "      <td>0.015887</td>\n",
       "      <td>0.987115</td>\n",
       "      <td>-0.567787</td>\n",
       "      <td>-0.100618</td>\n",
       "      <td>0.987115</td>\n",
       "      <td>2.164172</td>\n",
       "      <td>0.219169</td>\n",
       "      <td>-0.196930</td>\n",
       "      <td>0.422914</td>\n",
       "    </tr>\n",
       "    <tr>\n",
       "      <th>...</th>\n",
       "      <td>...</td>\n",
       "      <td>...</td>\n",
       "      <td>...</td>\n",
       "      <td>...</td>\n",
       "      <td>...</td>\n",
       "      <td>...</td>\n",
       "      <td>...</td>\n",
       "      <td>...</td>\n",
       "      <td>...</td>\n",
       "      <td>...</td>\n",
       "      <td>...</td>\n",
       "      <td>...</td>\n",
       "      <td>...</td>\n",
       "      <td>...</td>\n",
       "      <td>...</td>\n",
       "      <td>...</td>\n",
       "      <td>...</td>\n",
       "      <td>...</td>\n",
       "      <td>...</td>\n",
       "    </tr>\n",
       "    <tr>\n",
       "      <th>715</th>\n",
       "      <td>-0.687308</td>\n",
       "      <td>1.659445</td>\n",
       "      <td>-1.096695</td>\n",
       "      <td>1.446244</td>\n",
       "      <td>-0.583203</td>\n",
       "      <td>-0.776569</td>\n",
       "      <td>-0.168261</td>\n",
       "      <td>1.215864</td>\n",
       "      <td>-0.994460</td>\n",
       "      <td>-1.742713</td>\n",
       "      <td>1.368819</td>\n",
       "      <td>-1.860333</td>\n",
       "      <td>0.548765</td>\n",
       "      <td>1.817424</td>\n",
       "      <td>-1.860333</td>\n",
       "      <td>-1.196212</td>\n",
       "      <td>0.219169</td>\n",
       "      <td>-1.429880</td>\n",
       "      <td>0.422914</td>\n",
       "    </tr>\n",
       "    <tr>\n",
       "      <th>716</th>\n",
       "      <td>-0.687308</td>\n",
       "      <td>-0.697504</td>\n",
       "      <td>0.300863</td>\n",
       "      <td>-0.828569</td>\n",
       "      <td>-1.317198</td>\n",
       "      <td>0.671021</td>\n",
       "      <td>0.795186</td>\n",
       "      <td>1.215864</td>\n",
       "      <td>1.005571</td>\n",
       "      <td>0.367406</td>\n",
       "      <td>-1.337046</td>\n",
       "      <td>0.930166</td>\n",
       "      <td>-0.121167</td>\n",
       "      <td>0.053708</td>\n",
       "      <td>0.930166</td>\n",
       "      <td>-1.196212</td>\n",
       "      <td>0.219169</td>\n",
       "      <td>1.036021</td>\n",
       "      <td>1.295402</td>\n",
       "    </tr>\n",
       "    <tr>\n",
       "      <th>717</th>\n",
       "      <td>-0.687308</td>\n",
       "      <td>-0.697504</td>\n",
       "      <td>0.300863</td>\n",
       "      <td>-0.828569</td>\n",
       "      <td>-1.317198</td>\n",
       "      <td>0.671021</td>\n",
       "      <td>0.795186</td>\n",
       "      <td>1.215864</td>\n",
       "      <td>-0.994460</td>\n",
       "      <td>0.655149</td>\n",
       "      <td>-0.906567</td>\n",
       "      <td>0.816269</td>\n",
       "      <td>-0.567787</td>\n",
       "      <td>0.163940</td>\n",
       "      <td>0.816269</td>\n",
       "      <td>-1.196212</td>\n",
       "      <td>0.219169</td>\n",
       "      <td>1.036021</td>\n",
       "      <td>0.422914</td>\n",
       "    </tr>\n",
       "    <tr>\n",
       "      <th>718</th>\n",
       "      <td>-0.687308</td>\n",
       "      <td>1.831905</td>\n",
       "      <td>-0.397916</td>\n",
       "      <td>1.446244</td>\n",
       "      <td>-1.678877</td>\n",
       "      <td>-1.530323</td>\n",
       "      <td>-0.972413</td>\n",
       "      <td>-1.226038</td>\n",
       "      <td>1.005571</td>\n",
       "      <td>-1.215184</td>\n",
       "      <td>0.815347</td>\n",
       "      <td>-1.461690</td>\n",
       "      <td>-0.567787</td>\n",
       "      <td>1.354448</td>\n",
       "      <td>-1.461690</td>\n",
       "      <td>-1.196212</td>\n",
       "      <td>0.219169</td>\n",
       "      <td>-1.429880</td>\n",
       "      <td>0.422914</td>\n",
       "    </tr>\n",
       "    <tr>\n",
       "      <th>719</th>\n",
       "      <td>-0.687308</td>\n",
       "      <td>1.831905</td>\n",
       "      <td>-0.397916</td>\n",
       "      <td>1.446244</td>\n",
       "      <td>-1.678877</td>\n",
       "      <td>-1.548921</td>\n",
       "      <td>-0.986159</td>\n",
       "      <td>-0.005087</td>\n",
       "      <td>-0.994460</td>\n",
       "      <td>-1.071312</td>\n",
       "      <td>0.630856</td>\n",
       "      <td>-1.575588</td>\n",
       "      <td>-0.716661</td>\n",
       "      <td>1.707192</td>\n",
       "      <td>-1.575588</td>\n",
       "      <td>-1.196212</td>\n",
       "      <td>0.219169</td>\n",
       "      <td>-1.429880</td>\n",
       "      <td>-0.449573</td>\n",
       "    </tr>\n",
       "  </tbody>\n",
       "</table>\n",
       "<p>720 rows × 19 columns</p>\n",
       "</div>"
      ],
      "text/plain": [
       "        SCALE      SPEC  STEEL_KIND    PT_THK   PT_WDTH    PT_LTH    PT_WGT  \\\n",
       "0    1.454951 -0.122638    0.300863  1.446244 -0.670963 -0.669107  1.473196   \n",
       "1    1.454951 -0.065151    0.300863  1.446244 -0.670963 -0.572210 -0.017861   \n",
       "2    1.454951 -0.122638    0.300863  1.446244 -0.567247 -1.723176 -0.336449   \n",
       "3    1.454951 -0.122638    0.300863  1.446244 -0.670963 -0.669107  1.473196   \n",
       "4    1.454951 -0.122638    0.300863  0.984812 -0.665645 -0.223917  2.618577   \n",
       "..        ...       ...         ...       ...       ...       ...       ...   \n",
       "715 -0.687308  1.659445   -1.096695  1.446244 -0.583203 -0.776569 -0.168261   \n",
       "716 -0.687308 -0.697504    0.300863 -0.828569 -1.317198  0.671021  0.795186   \n",
       "717 -0.687308 -0.697504    0.300863 -0.828569 -1.317198  0.671021  0.795186   \n",
       "718 -0.687308  1.831905   -0.397916  1.446244 -1.678877 -1.530323 -0.972413   \n",
       "719 -0.687308  1.831905   -0.397916  1.446244 -1.678877 -1.548921 -0.986159   \n",
       "\n",
       "       FUR_NO  FUR_NO_ROW  FUR_HZ_TEMP  FUR_HZ_TIME  FUR_SZ_TEMP  FUR_SZ_TIME  \\\n",
       "0   -0.005087   -0.994460     0.894936    -0.291598     0.987115    -0.642224   \n",
       "1   -0.005087   -0.994460    -0.975397     1.368819     0.132881    -0.195603   \n",
       "2   -1.226038    1.005571     0.079662    -0.660579     0.531524    -0.121167   \n",
       "3   -0.005087    1.005571     0.559235    -0.107107     0.873217    -0.791098   \n",
       "4    1.215864    1.005571     0.415363     0.015887     0.987115    -0.567787   \n",
       "..        ...         ...          ...          ...          ...          ...   \n",
       "715  1.215864   -0.994460    -1.742713     1.368819    -1.860333     0.548765   \n",
       "716  1.215864    1.005571     0.367406    -1.337046     0.930166    -0.121167   \n",
       "717  1.215864   -0.994460     0.655149    -0.906567     0.816269    -0.567787   \n",
       "718 -1.226038    1.005571    -1.215184     0.815347    -1.461690    -0.567787   \n",
       "719 -0.005087   -0.994460    -1.071312     0.630856    -1.575588    -0.716661   \n",
       "\n",
       "     FUR_TIME  FUR_EXTEMP  ROLLING_TEMP_T5       HSB  ROLLING_DESCALING  \\\n",
       "0    0.252126    0.987115         2.476312  0.219169          -1.429880   \n",
       "1    0.913519    0.132881         2.339751  0.219169          -1.429880   \n",
       "2    0.252126    0.531524         2.281224  0.219169          -1.429880   \n",
       "3    0.163940    0.873217         2.242207  0.219169          -1.429880   \n",
       "4   -0.100618    0.987115         2.164172  0.219169          -0.196930   \n",
       "..        ...         ...              ...       ...                ...   \n",
       "715  1.817424   -1.860333        -1.196212  0.219169          -1.429880   \n",
       "716  0.053708    0.930166        -1.196212  0.219169           1.036021   \n",
       "717  0.163940    0.816269        -1.196212  0.219169           1.036021   \n",
       "718  1.354448   -1.461690        -1.196212  0.219169          -1.429880   \n",
       "719  1.707192   -1.575588        -1.196212  0.219169          -1.429880   \n",
       "\n",
       "      WORK_GR  \n",
       "0    0.422914  \n",
       "1    0.422914  \n",
       "2    0.422914  \n",
       "3   -1.322061  \n",
       "4    0.422914  \n",
       "..        ...  \n",
       "715  0.422914  \n",
       "716  1.295402  \n",
       "717  0.422914  \n",
       "718  0.422914  \n",
       "719 -0.449573  \n",
       "\n",
       "[720 rows x 19 columns]"
      ]
     },
     "execution_count": 7,
     "metadata": {},
     "output_type": "execute_result"
    }
   ],
   "source": [
    "df_raw"
   ]
  },
  {
   "cell_type": "code",
   "execution_count": 8,
   "metadata": {},
   "outputs": [],
   "source": [
    "df_raw['SCALE'] = np.where(df_raw[\"SCALE\"]>= -0.5,1,0)"
   ]
  },
  {
   "cell_type": "code",
   "execution_count": 9,
   "metadata": {
    "scrolled": true
   },
   "outputs": [
    {
     "data": {
      "text/html": [
       "<div>\n",
       "<style scoped>\n",
       "    .dataframe tbody tr th:only-of-type {\n",
       "        vertical-align: middle;\n",
       "    }\n",
       "\n",
       "    .dataframe tbody tr th {\n",
       "        vertical-align: top;\n",
       "    }\n",
       "\n",
       "    .dataframe thead th {\n",
       "        text-align: right;\n",
       "    }\n",
       "</style>\n",
       "<table border=\"1\" class=\"dataframe\">\n",
       "  <thead>\n",
       "    <tr style=\"text-align: right;\">\n",
       "      <th></th>\n",
       "      <th>SCALE</th>\n",
       "      <th>SPEC</th>\n",
       "      <th>STEEL_KIND</th>\n",
       "      <th>PT_THK</th>\n",
       "      <th>PT_WDTH</th>\n",
       "      <th>PT_LTH</th>\n",
       "      <th>PT_WGT</th>\n",
       "      <th>FUR_NO</th>\n",
       "      <th>FUR_NO_ROW</th>\n",
       "      <th>FUR_HZ_TEMP</th>\n",
       "      <th>FUR_HZ_TIME</th>\n",
       "      <th>FUR_SZ_TEMP</th>\n",
       "      <th>FUR_SZ_TIME</th>\n",
       "      <th>FUR_TIME</th>\n",
       "      <th>FUR_EXTEMP</th>\n",
       "      <th>ROLLING_TEMP_T5</th>\n",
       "      <th>HSB</th>\n",
       "      <th>ROLLING_DESCALING</th>\n",
       "      <th>WORK_GR</th>\n",
       "    </tr>\n",
       "  </thead>\n",
       "  <tbody>\n",
       "    <tr>\n",
       "      <th>0</th>\n",
       "      <td>1</td>\n",
       "      <td>-0.122638</td>\n",
       "      <td>0.300863</td>\n",
       "      <td>1.446244</td>\n",
       "      <td>-0.670963</td>\n",
       "      <td>-0.669107</td>\n",
       "      <td>1.473196</td>\n",
       "      <td>-0.005087</td>\n",
       "      <td>-0.994460</td>\n",
       "      <td>0.894936</td>\n",
       "      <td>-0.291598</td>\n",
       "      <td>0.987115</td>\n",
       "      <td>-0.642224</td>\n",
       "      <td>0.252126</td>\n",
       "      <td>0.987115</td>\n",
       "      <td>2.476312</td>\n",
       "      <td>0.219169</td>\n",
       "      <td>-1.429880</td>\n",
       "      <td>0.422914</td>\n",
       "    </tr>\n",
       "    <tr>\n",
       "      <th>1</th>\n",
       "      <td>1</td>\n",
       "      <td>-0.065151</td>\n",
       "      <td>0.300863</td>\n",
       "      <td>1.446244</td>\n",
       "      <td>-0.670963</td>\n",
       "      <td>-0.572210</td>\n",
       "      <td>-0.017861</td>\n",
       "      <td>-0.005087</td>\n",
       "      <td>-0.994460</td>\n",
       "      <td>-0.975397</td>\n",
       "      <td>1.368819</td>\n",
       "      <td>0.132881</td>\n",
       "      <td>-0.195603</td>\n",
       "      <td>0.913519</td>\n",
       "      <td>0.132881</td>\n",
       "      <td>2.339751</td>\n",
       "      <td>0.219169</td>\n",
       "      <td>-1.429880</td>\n",
       "      <td>0.422914</td>\n",
       "    </tr>\n",
       "    <tr>\n",
       "      <th>2</th>\n",
       "      <td>1</td>\n",
       "      <td>-0.122638</td>\n",
       "      <td>0.300863</td>\n",
       "      <td>1.446244</td>\n",
       "      <td>-0.567247</td>\n",
       "      <td>-1.723176</td>\n",
       "      <td>-0.336449</td>\n",
       "      <td>-1.226038</td>\n",
       "      <td>1.005571</td>\n",
       "      <td>0.079662</td>\n",
       "      <td>-0.660579</td>\n",
       "      <td>0.531524</td>\n",
       "      <td>-0.121167</td>\n",
       "      <td>0.252126</td>\n",
       "      <td>0.531524</td>\n",
       "      <td>2.281224</td>\n",
       "      <td>0.219169</td>\n",
       "      <td>-1.429880</td>\n",
       "      <td>0.422914</td>\n",
       "    </tr>\n",
       "    <tr>\n",
       "      <th>3</th>\n",
       "      <td>1</td>\n",
       "      <td>-0.122638</td>\n",
       "      <td>0.300863</td>\n",
       "      <td>1.446244</td>\n",
       "      <td>-0.670963</td>\n",
       "      <td>-0.669107</td>\n",
       "      <td>1.473196</td>\n",
       "      <td>-0.005087</td>\n",
       "      <td>1.005571</td>\n",
       "      <td>0.559235</td>\n",
       "      <td>-0.107107</td>\n",
       "      <td>0.873217</td>\n",
       "      <td>-0.791098</td>\n",
       "      <td>0.163940</td>\n",
       "      <td>0.873217</td>\n",
       "      <td>2.242207</td>\n",
       "      <td>0.219169</td>\n",
       "      <td>-1.429880</td>\n",
       "      <td>-1.322061</td>\n",
       "    </tr>\n",
       "    <tr>\n",
       "      <th>4</th>\n",
       "      <td>1</td>\n",
       "      <td>-0.122638</td>\n",
       "      <td>0.300863</td>\n",
       "      <td>0.984812</td>\n",
       "      <td>-0.665645</td>\n",
       "      <td>-0.223917</td>\n",
       "      <td>2.618577</td>\n",
       "      <td>1.215864</td>\n",
       "      <td>1.005571</td>\n",
       "      <td>0.415363</td>\n",
       "      <td>0.015887</td>\n",
       "      <td>0.987115</td>\n",
       "      <td>-0.567787</td>\n",
       "      <td>-0.100618</td>\n",
       "      <td>0.987115</td>\n",
       "      <td>2.164172</td>\n",
       "      <td>0.219169</td>\n",
       "      <td>-0.196930</td>\n",
       "      <td>0.422914</td>\n",
       "    </tr>\n",
       "    <tr>\n",
       "      <th>...</th>\n",
       "      <td>...</td>\n",
       "      <td>...</td>\n",
       "      <td>...</td>\n",
       "      <td>...</td>\n",
       "      <td>...</td>\n",
       "      <td>...</td>\n",
       "      <td>...</td>\n",
       "      <td>...</td>\n",
       "      <td>...</td>\n",
       "      <td>...</td>\n",
       "      <td>...</td>\n",
       "      <td>...</td>\n",
       "      <td>...</td>\n",
       "      <td>...</td>\n",
       "      <td>...</td>\n",
       "      <td>...</td>\n",
       "      <td>...</td>\n",
       "      <td>...</td>\n",
       "      <td>...</td>\n",
       "    </tr>\n",
       "    <tr>\n",
       "      <th>715</th>\n",
       "      <td>0</td>\n",
       "      <td>1.659445</td>\n",
       "      <td>-1.096695</td>\n",
       "      <td>1.446244</td>\n",
       "      <td>-0.583203</td>\n",
       "      <td>-0.776569</td>\n",
       "      <td>-0.168261</td>\n",
       "      <td>1.215864</td>\n",
       "      <td>-0.994460</td>\n",
       "      <td>-1.742713</td>\n",
       "      <td>1.368819</td>\n",
       "      <td>-1.860333</td>\n",
       "      <td>0.548765</td>\n",
       "      <td>1.817424</td>\n",
       "      <td>-1.860333</td>\n",
       "      <td>-1.196212</td>\n",
       "      <td>0.219169</td>\n",
       "      <td>-1.429880</td>\n",
       "      <td>0.422914</td>\n",
       "    </tr>\n",
       "    <tr>\n",
       "      <th>716</th>\n",
       "      <td>0</td>\n",
       "      <td>-0.697504</td>\n",
       "      <td>0.300863</td>\n",
       "      <td>-0.828569</td>\n",
       "      <td>-1.317198</td>\n",
       "      <td>0.671021</td>\n",
       "      <td>0.795186</td>\n",
       "      <td>1.215864</td>\n",
       "      <td>1.005571</td>\n",
       "      <td>0.367406</td>\n",
       "      <td>-1.337046</td>\n",
       "      <td>0.930166</td>\n",
       "      <td>-0.121167</td>\n",
       "      <td>0.053708</td>\n",
       "      <td>0.930166</td>\n",
       "      <td>-1.196212</td>\n",
       "      <td>0.219169</td>\n",
       "      <td>1.036021</td>\n",
       "      <td>1.295402</td>\n",
       "    </tr>\n",
       "    <tr>\n",
       "      <th>717</th>\n",
       "      <td>0</td>\n",
       "      <td>-0.697504</td>\n",
       "      <td>0.300863</td>\n",
       "      <td>-0.828569</td>\n",
       "      <td>-1.317198</td>\n",
       "      <td>0.671021</td>\n",
       "      <td>0.795186</td>\n",
       "      <td>1.215864</td>\n",
       "      <td>-0.994460</td>\n",
       "      <td>0.655149</td>\n",
       "      <td>-0.906567</td>\n",
       "      <td>0.816269</td>\n",
       "      <td>-0.567787</td>\n",
       "      <td>0.163940</td>\n",
       "      <td>0.816269</td>\n",
       "      <td>-1.196212</td>\n",
       "      <td>0.219169</td>\n",
       "      <td>1.036021</td>\n",
       "      <td>0.422914</td>\n",
       "    </tr>\n",
       "    <tr>\n",
       "      <th>718</th>\n",
       "      <td>0</td>\n",
       "      <td>1.831905</td>\n",
       "      <td>-0.397916</td>\n",
       "      <td>1.446244</td>\n",
       "      <td>-1.678877</td>\n",
       "      <td>-1.530323</td>\n",
       "      <td>-0.972413</td>\n",
       "      <td>-1.226038</td>\n",
       "      <td>1.005571</td>\n",
       "      <td>-1.215184</td>\n",
       "      <td>0.815347</td>\n",
       "      <td>-1.461690</td>\n",
       "      <td>-0.567787</td>\n",
       "      <td>1.354448</td>\n",
       "      <td>-1.461690</td>\n",
       "      <td>-1.196212</td>\n",
       "      <td>0.219169</td>\n",
       "      <td>-1.429880</td>\n",
       "      <td>0.422914</td>\n",
       "    </tr>\n",
       "    <tr>\n",
       "      <th>719</th>\n",
       "      <td>0</td>\n",
       "      <td>1.831905</td>\n",
       "      <td>-0.397916</td>\n",
       "      <td>1.446244</td>\n",
       "      <td>-1.678877</td>\n",
       "      <td>-1.548921</td>\n",
       "      <td>-0.986159</td>\n",
       "      <td>-0.005087</td>\n",
       "      <td>-0.994460</td>\n",
       "      <td>-1.071312</td>\n",
       "      <td>0.630856</td>\n",
       "      <td>-1.575588</td>\n",
       "      <td>-0.716661</td>\n",
       "      <td>1.707192</td>\n",
       "      <td>-1.575588</td>\n",
       "      <td>-1.196212</td>\n",
       "      <td>0.219169</td>\n",
       "      <td>-1.429880</td>\n",
       "      <td>-0.449573</td>\n",
       "    </tr>\n",
       "  </tbody>\n",
       "</table>\n",
       "<p>720 rows × 19 columns</p>\n",
       "</div>"
      ],
      "text/plain": [
       "     SCALE      SPEC  STEEL_KIND    PT_THK   PT_WDTH    PT_LTH    PT_WGT  \\\n",
       "0        1 -0.122638    0.300863  1.446244 -0.670963 -0.669107  1.473196   \n",
       "1        1 -0.065151    0.300863  1.446244 -0.670963 -0.572210 -0.017861   \n",
       "2        1 -0.122638    0.300863  1.446244 -0.567247 -1.723176 -0.336449   \n",
       "3        1 -0.122638    0.300863  1.446244 -0.670963 -0.669107  1.473196   \n",
       "4        1 -0.122638    0.300863  0.984812 -0.665645 -0.223917  2.618577   \n",
       "..     ...       ...         ...       ...       ...       ...       ...   \n",
       "715      0  1.659445   -1.096695  1.446244 -0.583203 -0.776569 -0.168261   \n",
       "716      0 -0.697504    0.300863 -0.828569 -1.317198  0.671021  0.795186   \n",
       "717      0 -0.697504    0.300863 -0.828569 -1.317198  0.671021  0.795186   \n",
       "718      0  1.831905   -0.397916  1.446244 -1.678877 -1.530323 -0.972413   \n",
       "719      0  1.831905   -0.397916  1.446244 -1.678877 -1.548921 -0.986159   \n",
       "\n",
       "       FUR_NO  FUR_NO_ROW  FUR_HZ_TEMP  FUR_HZ_TIME  FUR_SZ_TEMP  FUR_SZ_TIME  \\\n",
       "0   -0.005087   -0.994460     0.894936    -0.291598     0.987115    -0.642224   \n",
       "1   -0.005087   -0.994460    -0.975397     1.368819     0.132881    -0.195603   \n",
       "2   -1.226038    1.005571     0.079662    -0.660579     0.531524    -0.121167   \n",
       "3   -0.005087    1.005571     0.559235    -0.107107     0.873217    -0.791098   \n",
       "4    1.215864    1.005571     0.415363     0.015887     0.987115    -0.567787   \n",
       "..        ...         ...          ...          ...          ...          ...   \n",
       "715  1.215864   -0.994460    -1.742713     1.368819    -1.860333     0.548765   \n",
       "716  1.215864    1.005571     0.367406    -1.337046     0.930166    -0.121167   \n",
       "717  1.215864   -0.994460     0.655149    -0.906567     0.816269    -0.567787   \n",
       "718 -1.226038    1.005571    -1.215184     0.815347    -1.461690    -0.567787   \n",
       "719 -0.005087   -0.994460    -1.071312     0.630856    -1.575588    -0.716661   \n",
       "\n",
       "     FUR_TIME  FUR_EXTEMP  ROLLING_TEMP_T5       HSB  ROLLING_DESCALING  \\\n",
       "0    0.252126    0.987115         2.476312  0.219169          -1.429880   \n",
       "1    0.913519    0.132881         2.339751  0.219169          -1.429880   \n",
       "2    0.252126    0.531524         2.281224  0.219169          -1.429880   \n",
       "3    0.163940    0.873217         2.242207  0.219169          -1.429880   \n",
       "4   -0.100618    0.987115         2.164172  0.219169          -0.196930   \n",
       "..        ...         ...              ...       ...                ...   \n",
       "715  1.817424   -1.860333        -1.196212  0.219169          -1.429880   \n",
       "716  0.053708    0.930166        -1.196212  0.219169           1.036021   \n",
       "717  0.163940    0.816269        -1.196212  0.219169           1.036021   \n",
       "718  1.354448   -1.461690        -1.196212  0.219169          -1.429880   \n",
       "719  1.707192   -1.575588        -1.196212  0.219169          -1.429880   \n",
       "\n",
       "      WORK_GR  \n",
       "0    0.422914  \n",
       "1    0.422914  \n",
       "2    0.422914  \n",
       "3   -1.322061  \n",
       "4    0.422914  \n",
       "..        ...  \n",
       "715  0.422914  \n",
       "716  1.295402  \n",
       "717  0.422914  \n",
       "718  0.422914  \n",
       "719 -0.449573  \n",
       "\n",
       "[720 rows x 19 columns]"
      ]
     },
     "execution_count": 9,
     "metadata": {},
     "output_type": "execute_result"
    }
   ],
   "source": [
    "df_raw"
   ]
  },
  {
   "cell_type": "markdown",
   "metadata": {},
   "source": [
    "# heatmap 그리기"
   ]
  },
  {
   "cell_type": "code",
   "execution_count": 28,
   "metadata": {
    "scrolled": false
   },
   "outputs": [
    {
     "data": {
      "text/plain": [
       "<matplotlib.axes._subplots.AxesSubplot at 0x1a1075cae10>"
      ]
     },
     "execution_count": 28,
     "metadata": {},
     "output_type": "execute_result"
    },
    {
     "data": {
      "image/png": "[encoded data removed]",
      "text/plain": [
       "<Figure size 1080x720 with 2 Axes>"
      ]
     },
     "metadata": {
      "needs_background": "light"
     },
     "output_type": "display_data"
    }
   ],
   "source": [
    "plt.figure(figsize=(15,10))\n",
    "sns.heatmap(df_raw.corr(),annot=True, cmap=\"Blues\")"
   ]
  },
  {
   "cell_type": "markdown",
   "metadata": {},
   "source": [
    "# 여기서부터 모델 돌릴려고 다시 불러들이기"
   ]
  },
  {
   "cell_type": "code",
   "execution_count": 23,
   "metadata": {},
   "outputs": [
    {
     "name": "stderr",
     "output_type": "stream",
     "text": [
      "c:\\users\\achin\\tf1\\lib\\site-packages\\statsmodels\\stats\\outliers_influence.py:193: RuntimeWarning: divide by zero encountered in double_scalars\n",
      "  vif = 1. / (1. - r_squared_i)\n"
     ]
    },
    {
     "data": {
      "text/html": [
       "<div>\n",
       "<style scoped>\n",
       "    .dataframe tbody tr th:only-of-type {\n",
       "        vertical-align: middle;\n",
       "    }\n",
       "\n",
       "    .dataframe tbody tr th {\n",
       "        vertical-align: top;\n",
       "    }\n",
       "\n",
       "    .dataframe thead th {\n",
       "        text-align: right;\n",
       "    }\n",
       "</style>\n",
       "<table border=\"1\" class=\"dataframe\">\n",
       "  <thead>\n",
       "    <tr style=\"text-align: right;\">\n",
       "      <th></th>\n",
       "      <th>variable</th>\n",
       "      <th>VIF</th>\n",
       "    </tr>\n",
       "  </thead>\n",
       "  <tbody>\n",
       "    <tr>\n",
       "      <th>0</th>\n",
       "      <td>const</td>\n",
       "      <td>1.000</td>\n",
       "    </tr>\n",
       "    <tr>\n",
       "      <th>16</th>\n",
       "      <td>HSB</td>\n",
       "      <td>1.025</td>\n",
       "    </tr>\n",
       "    <tr>\n",
       "      <th>18</th>\n",
       "      <td>WORK_GR</td>\n",
       "      <td>1.034</td>\n",
       "    </tr>\n",
       "    <tr>\n",
       "      <th>8</th>\n",
       "      <td>FUR_NO_ROW</td>\n",
       "      <td>1.036</td>\n",
       "    </tr>\n",
       "    <tr>\n",
       "      <th>7</th>\n",
       "      <td>FUR_NO</td>\n",
       "      <td>1.060</td>\n",
       "    </tr>\n",
       "    <tr>\n",
       "      <th>1</th>\n",
       "      <td>SPEC</td>\n",
       "      <td>1.572</td>\n",
       "    </tr>\n",
       "    <tr>\n",
       "      <th>6</th>\n",
       "      <td>PT_WGT</td>\n",
       "      <td>1.620</td>\n",
       "    </tr>\n",
       "    <tr>\n",
       "      <th>10</th>\n",
       "      <td>FUR_HZ_TIME</td>\n",
       "      <td>1.746</td>\n",
       "    </tr>\n",
       "    <tr>\n",
       "      <th>4</th>\n",
       "      <td>PT_WDTH</td>\n",
       "      <td>1.760</td>\n",
       "    </tr>\n",
       "    <tr>\n",
       "      <th>2</th>\n",
       "      <td>STEEL_KIND</td>\n",
       "      <td>1.776</td>\n",
       "    </tr>\n",
       "    <tr>\n",
       "      <th>12</th>\n",
       "      <td>FUR_SZ_TIME</td>\n",
       "      <td>2.060</td>\n",
       "    </tr>\n",
       "    <tr>\n",
       "      <th>13</th>\n",
       "      <td>FUR_TIME</td>\n",
       "      <td>2.314</td>\n",
       "    </tr>\n",
       "    <tr>\n",
       "      <th>15</th>\n",
       "      <td>ROLLING_TEMP_T5</td>\n",
       "      <td>2.477</td>\n",
       "    </tr>\n",
       "    <tr>\n",
       "      <th>9</th>\n",
       "      <td>FUR_HZ_TEMP</td>\n",
       "      <td>3.709</td>\n",
       "    </tr>\n",
       "    <tr>\n",
       "      <th>17</th>\n",
       "      <td>ROLLING_DESCALING</td>\n",
       "      <td>6.737</td>\n",
       "    </tr>\n",
       "    <tr>\n",
       "      <th>5</th>\n",
       "      <td>PT_LTH</td>\n",
       "      <td>6.984</td>\n",
       "    </tr>\n",
       "    <tr>\n",
       "      <th>3</th>\n",
       "      <td>PT_THK</td>\n",
       "      <td>12.892</td>\n",
       "    </tr>\n",
       "    <tr>\n",
       "      <th>11</th>\n",
       "      <td>FUR_SZ_TEMP</td>\n",
       "      <td>inf</td>\n",
       "    </tr>\n",
       "    <tr>\n",
       "      <th>14</th>\n",
       "      <td>FUR_EXTEMP</td>\n",
       "      <td>inf</td>\n",
       "    </tr>\n",
       "  </tbody>\n",
       "</table>\n",
       "</div>"
      ],
      "text/plain": [
       "             variable     VIF\n",
       "0               const   1.000\n",
       "16                HSB   1.025\n",
       "18            WORK_GR   1.034\n",
       "8          FUR_NO_ROW   1.036\n",
       "7              FUR_NO   1.060\n",
       "1                SPEC   1.572\n",
       "6              PT_WGT   1.620\n",
       "10        FUR_HZ_TIME   1.746\n",
       "4             PT_WDTH   1.760\n",
       "2          STEEL_KIND   1.776\n",
       "12        FUR_SZ_TIME   2.060\n",
       "13           FUR_TIME   2.314\n",
       "15    ROLLING_TEMP_T5   2.477\n",
       "9         FUR_HZ_TEMP   3.709\n",
       "17  ROLLING_DESCALING   6.737\n",
       "5              PT_LTH   6.984\n",
       "3              PT_THK  12.892\n",
       "11        FUR_SZ_TEMP     inf\n",
       "14         FUR_EXTEMP     inf"
      ]
     },
     "execution_count": 23,
     "metadata": {},
     "output_type": "execute_result"
    }
   ],
   "source": [
    "df_raw_x = df_raw.drop(\"SCALE\",axis = 1)\n",
    "df_raw_x_const = add_constant(df_raw_x)\n",
    "df_vif = pd.DataFrame()\n",
    "df_vif[\"variable\"] = df_raw_x_const.columns\n",
    "df_vif[\"VIF\"] = [variance_inflation_factor(df_raw_x_const.values,i) for i in range(df_raw_x_const.shape[1])]\n",
    "df_vif.sort_values(\"VIF\",inplace = True)\n",
    "df_vif.round(3)"
   ]
  },
  {
   "cell_type": "markdown",
   "metadata": {},
   "source": [
    "# 모델별로 돌리기"
   ]
  },
  {
   "cell_type": "code",
   "execution_count": null,
   "metadata": {},
   "outputs": [],
   "source": []
  },
  {
   "cell_type": "markdown",
   "metadata": {},
   "source": [
    "## Decision Tree"
   ]
  },
  {
   "cell_type": "code",
   "execution_count": 11,
   "metadata": {},
   "outputs": [],
   "source": [
    "df_raw_y = df_raw[\"SCALE\"]\n",
    "df_raw_x = df_raw.drop(\"SCALE\", axis=1, inplace=False)\n",
    "\n",
    "df_train_x, df_test_x, df_train_y, df_test_y = train_test_split(df_raw_x, df_raw_y, test_size=0.2, random_state = 1234)\n",
    "df_train_x, df_val_x, df_train_y, df_val_y = train_test_split(df_train_x, df_train_y, test_size=3/7, random_state = 1234)"
   ]
  },
  {
   "cell_type": "code",
   "execution_count": 30,
   "metadata": {},
   "outputs": [],
   "source": [
    "#train 및 test 설명력과 결과 저장\n",
    "train_accuracy = []; test_accuracy = []\n",
    "#max_depth: 최대 깊이 변경\n",
    "para_depth = [depth for depth in range(1,11)]\n",
    "\n",
    "for v_max_depth in para_depth:\n",
    "    tree = DecisionTreeClassifier(random_state =1234,\n",
    "                                  max_depth = v_max_depth)\n",
    "    tree.fit(df_train_x, df_train_y)\n",
    "    train_accuracy.append(tree.score(df_train_x, df_train_y))\n",
    "    test_accuracy.append(tree.score(df_test_x, df_test_y))\n",
    "\n",
    "#결과 저장\n",
    "df_accuracy_depth = pd.DataFrame()\n",
    "df_accuracy_depth[\"Depth\"]=para_depth\n",
    "df_accuracy_depth[\"TrainScore\"]=train_accuracy\n",
    "df_accuracy_depth[\"TestScore\"]=test_accuracy"
   ]
  },
  {
   "cell_type": "code",
   "execution_count": 31,
   "metadata": {},
   "outputs": [
    {
     "data": {
      "text/plain": [
       "<matplotlib.legend.Legend at 0x1a10916ab00>"
      ]
     },
     "execution_count": 31,
     "metadata": {},
     "output_type": "execute_result"
    },
    {
     "data": {
      "image/png": "[encoded data removed]",
      "text/plain": [
       "<Figure size 432x288 with 1 Axes>"
      ]
     },
     "metadata": {
      "needs_background": "light"
     },
     "output_type": "display_data"
    }
   ],
   "source": [
    "#모델 설명력 그래프 확인\n",
    "plt.plot(para_depth,train_accuracy, linestyle = \"-\", label = \"Train Accuracy\")\n",
    "plt.plot(para_depth,test_accuracy, linestyle = \"-\", label = \"Test Accuracy\")\n",
    "plt.legend()"
   ]
  },
  {
   "cell_type": "code",
   "execution_count": 32,
   "metadata": {},
   "outputs": [],
   "source": [
    "#train 및 test 설명력과 결과 저장\n",
    "train_accuracy = []; test_accuracy = []\n",
    "#min_samples_split: 분리 노드의 최소 자료 수\n",
    "para_split = [n_split * 10 for n_split in range(1,11)]\n",
    "\n",
    "for v_min_samples_split in para_split:\n",
    "    tree = DecisionTreeClassifier(random_state =1234,\n",
    "                                  max_depth = 4,\n",
    "                                  min_samples_split = v_min_samples_split)\n",
    "    tree.fit(df_train_x, df_train_y)\n",
    "    train_accuracy.append(tree.score(df_train_x, df_train_y))\n",
    "    test_accuracy.append(tree.score(df_test_x, df_test_y))\n",
    "\n",
    "#결과 저장\n",
    "df_score_split = pd.DataFrame()\n",
    "df_score_split[\"MinSamplesLeaf\"]=para_split\n",
    "df_score_split[\"TrainAccuracy\"]=train_accuracy\n",
    "df_score_split[\"TestAccuracy\"]=test_accuracy"
   ]
  },
  {
   "cell_type": "code",
   "execution_count": 33,
   "metadata": {},
   "outputs": [
    {
     "data": {
      "text/plain": [
       "<matplotlib.legend.Legend at 0x1a109208dd8>"
      ]
     },
     "execution_count": 33,
     "metadata": {},
     "output_type": "execute_result"
    },
    {
     "data": {
      "image/png": "[encoded data removed]",
      "text/plain": [
       "<Figure size 432x288 with 1 Axes>"
      ]
     },
     "metadata": {
      "needs_background": "light"
     },
     "output_type": "display_data"
    }
   ],
   "source": [
    "#모델 설명력 그래프 확인\n",
    "plt.plot(para_split, train_accuracy,linestyle=\"-\", label = \"Train Score\")\n",
    "plt.plot(para_split, test_accuracy,linestyle=\"--\", label = \"Test Score\")\n",
    "plt.legend()"
   ]
  },
  {
   "cell_type": "code",
   "execution_count": 34,
   "metadata": {},
   "outputs": [],
   "source": [
    "#train 및 test 설명력 결과 저장\n",
    "train_accuracy = []; test_accuracy =[]\n",
    "#min_samples_leaf: 잎사귀 최소 자료 수\n",
    "para_leaf = [n_leaf * 2 for n_leaf in range(1,11)]\n",
    "\n",
    "for v_min_samples_leaf in para_leaf:\n",
    "    tree = DecisionTreeClassifier(random_state = 1234,\n",
    "                                  max_depth = 4,\n",
    "                                  min_samples_split = 20,\n",
    "                                  min_samples_leaf = v_min_samples_leaf)\n",
    "    tree.fit(df_train_x, df_train_y)\n",
    "    train_accuracy.append(tree.score(df_train_x, df_train_y))\n",
    "    test_accuracy.append(tree.score(df_test_x, df_test_y))\n",
    "\n",
    "#결과 저장\n",
    "df_accuracy_leaf = pd.DataFrame()\n",
    "df_accuracy_leaf[\"MinSamplesLeaf\"]=para_leaf\n",
    "df_accuracy_leaf[\"TrainScore\"]=train_accuracy\n",
    "df_accuracy_leaf[\"TestScore\"]=test_accuracy"
   ]
  },
  {
   "cell_type": "code",
   "execution_count": 35,
   "metadata": {
    "scrolled": true
   },
   "outputs": [
    {
     "data": {
      "text/plain": [
       "<matplotlib.legend.Legend at 0x1a108d6ef60>"
      ]
     },
     "execution_count": 35,
     "metadata": {},
     "output_type": "execute_result"
    },
    {
     "data": {
      "image/png": "[encoded data removed]",
      "text/plain": [
       "<Figure size 432x288 with 1 Axes>"
      ]
     },
     "metadata": {
      "needs_background": "light"
     },
     "output_type": "display_data"
    }
   ],
   "source": [
    "#모델 설명력 그래프 확인\n",
    "plt.plot(para_leaf,train_accuracy, linestyle = \"-\", label = \"Train Score\")\n",
    "plt.plot(para_leaf,test_accuracy, linestyle = \"-\", label = \"Test Score\")\n",
    "plt.legend()"
   ]
  },
  {
   "cell_type": "code",
   "execution_count": null,
   "metadata": {},
   "outputs": [],
   "source": []
  },
  {
   "cell_type": "code",
   "execution_count": null,
   "metadata": {},
   "outputs": [],
   "source": []
  },
  {
   "cell_type": "markdown",
   "metadata": {},
   "source": [
    "### 디시젼트리 최종모델"
   ]
  },
  {
   "cell_type": "code",
   "execution_count": 14,
   "metadata": {
    "scrolled": true
   },
   "outputs": [
    {
     "data": {
      "text/plain": [
       "DecisionTreeClassifier(max_depth=4, min_samples_leaf=3, min_samples_split=20,\n",
       "                       random_state=1234)"
      ]
     },
     "execution_count": 14,
     "metadata": {},
     "output_type": "execute_result"
    }
   ],
   "source": [
    "tree_final =  DecisionTreeClassifier(random_state =1234,\n",
    "                                     min_samples_leaf = 3,\n",
    "                                     min_samples_split = 20,\n",
    "                                     max_depth=4)\n",
    "tree_final.fit(df_train_x, df_train_y)"
   ]
  },
  {
   "cell_type": "code",
   "execution_count": 22,
   "metadata": {},
   "outputs": [
    {
     "name": "stdout",
     "output_type": "stream",
     "text": [
      "MSE: 0.04861111111111111\n",
      "MAE: 0.04861111111111111\n",
      "RMSE: 0.22047927592204922\n",
      "MAPE: inf\n"
     ]
    },
    {
     "name": "stderr",
     "output_type": "stream",
     "text": [
      "c:\\users\\achin\\tf1\\lib\\site-packages\\matplotlib\\backends\\backend_agg.py:211: RuntimeWarning: Glyph 48320 missing from current font.\n",
      "  font.set_text(s, 0.0, flags=flags)\n",
      "c:\\users\\achin\\tf1\\lib\\site-packages\\matplotlib\\backends\\backend_agg.py:211: RuntimeWarning: Glyph 49688 missing from current font.\n",
      "  font.set_text(s, 0.0, flags=flags)\n",
      "c:\\users\\achin\\tf1\\lib\\site-packages\\matplotlib\\backends\\backend_agg.py:211: RuntimeWarning: Glyph 51473 missing from current font.\n",
      "  font.set_text(s, 0.0, flags=flags)\n",
      "c:\\users\\achin\\tf1\\lib\\site-packages\\matplotlib\\backends\\backend_agg.py:211: RuntimeWarning: Glyph 50836 missing from current font.\n",
      "  font.set_text(s, 0.0, flags=flags)\n",
      "c:\\users\\achin\\tf1\\lib\\site-packages\\matplotlib\\backends\\backend_agg.py:211: RuntimeWarning: Glyph 46020 missing from current font.\n",
      "  font.set_text(s, 0.0, flags=flags)\n",
      "c:\\users\\achin\\tf1\\lib\\site-packages\\matplotlib\\backends\\backend_agg.py:180: RuntimeWarning: Glyph 48320 missing from current font.\n",
      "  font.set_text(s, 0, flags=flags)\n",
      "c:\\users\\achin\\tf1\\lib\\site-packages\\matplotlib\\backends\\backend_agg.py:180: RuntimeWarning: Glyph 49688 missing from current font.\n",
      "  font.set_text(s, 0, flags=flags)\n",
      "c:\\users\\achin\\tf1\\lib\\site-packages\\matplotlib\\backends\\backend_agg.py:180: RuntimeWarning: Glyph 51473 missing from current font.\n",
      "  font.set_text(s, 0, flags=flags)\n",
      "c:\\users\\achin\\tf1\\lib\\site-packages\\matplotlib\\backends\\backend_agg.py:180: RuntimeWarning: Glyph 50836 missing from current font.\n",
      "  font.set_text(s, 0, flags=flags)\n",
      "c:\\users\\achin\\tf1\\lib\\site-packages\\matplotlib\\backends\\backend_agg.py:180: RuntimeWarning: Glyph 46020 missing from current font.\n",
      "  font.set_text(s, 0, flags=flags)\n"
     ]
    },
    {
     "data": {
      "image/png": "[encoded data removed]",
      "text/plain": [
       "<Figure size 432x288 with 1 Axes>"
      ]
     },
     "metadata": {
      "needs_background": "light"
     },
     "output_type": "display_data"
    }
   ],
   "source": [
    "v_feature_name=df_train_x.columns\n",
    "\n",
    "df_importance = pd.DataFrame()\n",
    "df_importance[\"Feature\"] = v_feature_name\n",
    "df_importance[\"Importance\"] = tree_final.feature_importances_\n",
    "df_importance.sort_values(\"Importance\",ascending=False, inplace = True)\n",
    "df_importance.round(3)\n",
    "\n",
    "y_pred=tree_final.predict(df_test_x)\n",
    "\n",
    "df_importance.sort_values(\"Importance\",ascending=True, inplace = True)\n",
    "coordinates=range(len(df_importance))\n",
    "plt.barh(y=coordinates, width = df_importance[\"Importance\"])\n",
    "plt.yticks(coordinates, df_importance[\"Feature\"])\n",
    "plt.xlabel(\"변수 중요도\")\n",
    "plt.ylabel(\"변수\")\n",
    "\n",
    "\n",
    "print ('MSE:', mean_squared_error(df_test_y, y_pred))\n",
    "print ('MAE:', mean_absolute_error(df_test_y, y_pred))\n",
    "print('RMSE:',root_mean_squared_error(df_test_y, y_pred))\n",
    "print('MAPE:', mean_absolute_percentage_error(df_test_y, y_pred))"
   ]
  },
  {
   "cell_type": "code",
   "execution_count": 37,
   "metadata": {
    "scrolled": true
   },
   "outputs": [
    {
     "name": "stdout",
     "output_type": "stream",
     "text": [
      "Accuracy:0.951\n",
      "\n",
      "Confusion matrix\n",
      "[[101   2]\n",
      " [  5  36]]\n"
     ]
    }
   ],
   "source": [
    "#평가\n",
    "y_pred = tree_final.predict(df_test_x)\n",
    "print(\"Accuracy:{0:.3f}\\n\".format(tree_final.score(df_test_x,df_test_y)))\n",
    "print(\"Confusion matrix\\n{}\".format(confusion_matrix(df_test_y,y_pred)))"
   ]
  },
  {
   "cell_type": "code",
   "execution_count": null,
   "metadata": {},
   "outputs": [],
   "source": []
  },
  {
   "cell_type": "code",
   "execution_count": 38,
   "metadata": {},
   "outputs": [
    {
     "data": {
      "text/html": [
       "<div>\n",
       "<style scoped>\n",
       "    .dataframe tbody tr th:only-of-type {\n",
       "        vertical-align: middle;\n",
       "    }\n",
       "\n",
       "    .dataframe tbody tr th {\n",
       "        vertical-align: top;\n",
       "    }\n",
       "\n",
       "    .dataframe thead th {\n",
       "        text-align: right;\n",
       "    }\n",
       "</style>\n",
       "<table border=\"1\" class=\"dataframe\">\n",
       "  <thead>\n",
       "    <tr style=\"text-align: right;\">\n",
       "      <th></th>\n",
       "      <th>Feature</th>\n",
       "      <th>Importance</th>\n",
       "    </tr>\n",
       "  </thead>\n",
       "  <tbody>\n",
       "    <tr>\n",
       "      <th>14</th>\n",
       "      <td>ROLLING_TEMP_T5</td>\n",
       "      <td>0.671778</td>\n",
       "    </tr>\n",
       "    <tr>\n",
       "      <th>15</th>\n",
       "      <td>HSB</td>\n",
       "      <td>0.183742</td>\n",
       "    </tr>\n",
       "    <tr>\n",
       "      <th>10</th>\n",
       "      <td>FUR_SZ_TEMP</td>\n",
       "      <td>0.144479</td>\n",
       "    </tr>\n",
       "    <tr>\n",
       "      <th>0</th>\n",
       "      <td>SPEC</td>\n",
       "      <td>0.000000</td>\n",
       "    </tr>\n",
       "    <tr>\n",
       "      <th>1</th>\n",
       "      <td>STEEL_KIND</td>\n",
       "      <td>0.000000</td>\n",
       "    </tr>\n",
       "    <tr>\n",
       "      <th>16</th>\n",
       "      <td>ROLLING_DESCALING</td>\n",
       "      <td>0.000000</td>\n",
       "    </tr>\n",
       "    <tr>\n",
       "      <th>13</th>\n",
       "      <td>FUR_EXTEMP</td>\n",
       "      <td>0.000000</td>\n",
       "    </tr>\n",
       "    <tr>\n",
       "      <th>12</th>\n",
       "      <td>FUR_TIME</td>\n",
       "      <td>0.000000</td>\n",
       "    </tr>\n",
       "    <tr>\n",
       "      <th>11</th>\n",
       "      <td>FUR_SZ_TIME</td>\n",
       "      <td>0.000000</td>\n",
       "    </tr>\n",
       "    <tr>\n",
       "      <th>9</th>\n",
       "      <td>FUR_HZ_TIME</td>\n",
       "      <td>0.000000</td>\n",
       "    </tr>\n",
       "    <tr>\n",
       "      <th>8</th>\n",
       "      <td>FUR_HZ_TEMP</td>\n",
       "      <td>0.000000</td>\n",
       "    </tr>\n",
       "    <tr>\n",
       "      <th>7</th>\n",
       "      <td>FUR_NO_ROW</td>\n",
       "      <td>0.000000</td>\n",
       "    </tr>\n",
       "    <tr>\n",
       "      <th>6</th>\n",
       "      <td>FUR_NO</td>\n",
       "      <td>0.000000</td>\n",
       "    </tr>\n",
       "    <tr>\n",
       "      <th>5</th>\n",
       "      <td>PT_WGT</td>\n",
       "      <td>0.000000</td>\n",
       "    </tr>\n",
       "    <tr>\n",
       "      <th>4</th>\n",
       "      <td>PT_LTH</td>\n",
       "      <td>0.000000</td>\n",
       "    </tr>\n",
       "    <tr>\n",
       "      <th>3</th>\n",
       "      <td>PT_WDTH</td>\n",
       "      <td>0.000000</td>\n",
       "    </tr>\n",
       "    <tr>\n",
       "      <th>2</th>\n",
       "      <td>PT_THK</td>\n",
       "      <td>0.000000</td>\n",
       "    </tr>\n",
       "    <tr>\n",
       "      <th>17</th>\n",
       "      <td>WORK_GR</td>\n",
       "      <td>0.000000</td>\n",
       "    </tr>\n",
       "  </tbody>\n",
       "</table>\n",
       "</div>"
      ],
      "text/plain": [
       "              Feature  Importance\n",
       "14    ROLLING_TEMP_T5    0.671778\n",
       "15                HSB    0.183742\n",
       "10        FUR_SZ_TEMP    0.144479\n",
       "0                SPEC    0.000000\n",
       "1          STEEL_KIND    0.000000\n",
       "16  ROLLING_DESCALING    0.000000\n",
       "13         FUR_EXTEMP    0.000000\n",
       "12           FUR_TIME    0.000000\n",
       "11        FUR_SZ_TIME    0.000000\n",
       "9         FUR_HZ_TIME    0.000000\n",
       "8         FUR_HZ_TEMP    0.000000\n",
       "7          FUR_NO_ROW    0.000000\n",
       "6              FUR_NO    0.000000\n",
       "5              PT_WGT    0.000000\n",
       "4              PT_LTH    0.000000\n",
       "3             PT_WDTH    0.000000\n",
       "2              PT_THK    0.000000\n",
       "17            WORK_GR    0.000000"
      ]
     },
     "execution_count": 38,
     "metadata": {},
     "output_type": "execute_result"
    }
   ],
   "source": [
    "#변수명저장\n",
    "v_feature_name = df_train_x.columns\n",
    "#tree.feature_importances로 설명 변수 중요도 확인 및 테이블로 저장\n",
    "df_importance = pd.DataFrame()\n",
    "df_importance[\"Feature\"] = v_feature_name\n",
    "df_importance[\"Importance\"] = tree_final.feature_importances_\n",
    "\n",
    "#df_feature_importance의 테이블을 중요도별로 정렬\n",
    "df_importance.sort_values(\"Importance\",ascending = False, inplace = True)\n",
    "df_importance"
   ]
  },
  {
   "cell_type": "code",
   "execution_count": 39,
   "metadata": {},
   "outputs": [
    {
     "data": {
      "text/plain": [
       "Text(0, 0.5, 'variable')"
      ]
     },
     "execution_count": 39,
     "metadata": {},
     "output_type": "execute_result"
    },
    {
     "data": {
      "image/png": "[encoded data removed]",
      "text/plain": [
       "<Figure size 432x288 with 1 Axes>"
      ]
     },
     "metadata": {
      "needs_background": "light"
     },
     "output_type": "display_data"
    }
   ],
   "source": [
    "#설명변수 중요도 그래프\n",
    "#중요도가 높은 변수를 상위에 그림\n",
    "df_importance.sort_values(\"Importance\",ascending = True, inplace = True)\n",
    "coordinates = range(len(df_importance))\n",
    "plt.barh(y=coordinates, width = df_importance[\"Importance\"])\n",
    "plt.yticks(coordinates, df_importance[\"Feature\"])\n",
    "plt.xlabel(\"variable importance\")\n",
    "plt.ylabel(\"variable\")"
   ]
  },
  {
   "cell_type": "code",
   "execution_count": null,
   "metadata": {},
   "outputs": [],
   "source": []
  },
  {
   "cell_type": "code",
   "execution_count": null,
   "metadata": {},
   "outputs": [],
   "source": []
  },
  {
   "cell_type": "markdown",
   "metadata": {},
   "source": [
    "# MLP"
   ]
  },
  {
   "cell_type": "markdown",
   "metadata": {},
   "source": [
    "### 가장 좋은 모델"
   ]
  },
  {
   "cell_type": "code",
   "execution_count": 69,
   "metadata": {
    "scrolled": true
   },
   "outputs": [
    {
     "name": "stdout",
     "output_type": "stream",
     "text": [
      "Score on traning set:0.994\n",
      "Score on val set:0.883\n"
     ]
    }
   ],
   "source": [
    "nn_uncustomized = MLPClassifier(random_state=1234,hidden_layer_sizes=(10,10,10,10,10,10,10,10),solver=\"adam\",activation=\"relu\")\n",
    "nn_uncustomized.fit(df_train_x, df_train_y)\n",
    "print(\"Score on traning set:{:.3f}\".format(nn_uncustomized.score(df_train_x,df_train_y)))\n",
    "print(\"Score on val set:{:.3f}\".format(nn_uncustomized.score(df_val_x,df_val_y)))"
   ]
  },
  {
   "cell_type": "code",
   "execution_count": 70,
   "metadata": {},
   "outputs": [
    {
     "name": "stdout",
     "output_type": "stream",
     "text": [
      "Accuracy:0.847\n",
      "\n",
      "Confusion matrix:\n",
      "[[93 10]\n",
      " [12 29]]\n"
     ]
    }
   ],
   "source": [
    "y_pred=nn_uncustomized.predict(df_test_x)\n",
    "print(\"Accuracy:{0:.3f}\\n\".format(nn_uncustomized.score(df_test_x,df_test_y)))\n",
    "print(\"Confusion matrix:\\n{}\".format(confusion_matrix(df_test_y,y_pred)))"
   ]
  },
  {
   "cell_type": "code",
   "execution_count": null,
   "metadata": {},
   "outputs": [],
   "source": []
  },
  {
   "cell_type": "markdown",
   "metadata": {},
   "source": [
    "# 밑에서부터는 최적값 찾으려고 파라미터 바꿔가면서 그래프 찾은것"
   ]
  },
  {
   "cell_type": "code",
   "execution_count": 42,
   "metadata": {},
   "outputs": [
    {
     "name": "stderr",
     "output_type": "stream",
     "text": [
      "c:\\users\\achin\\tf1\\lib\\site-packages\\sklearn\\neural_network\\_multilayer_perceptron.py:585: ConvergenceWarning: Stochastic Optimizer: Maximum iterations (200) reached and the optimization hasn't converged yet.\n",
      "  % self.max_iter, ConvergenceWarning)\n",
      "c:\\users\\achin\\tf1\\lib\\site-packages\\sklearn\\neural_network\\_multilayer_perceptron.py:585: ConvergenceWarning: Stochastic Optimizer: Maximum iterations (200) reached and the optimization hasn't converged yet.\n",
      "  % self.max_iter, ConvergenceWarning)\n",
      "c:\\users\\achin\\tf1\\lib\\site-packages\\sklearn\\neural_network\\_multilayer_perceptron.py:585: ConvergenceWarning: Stochastic Optimizer: Maximum iterations (200) reached and the optimization hasn't converged yet.\n",
      "  % self.max_iter, ConvergenceWarning)\n",
      "c:\\users\\achin\\tf1\\lib\\site-packages\\sklearn\\neural_network\\_multilayer_perceptron.py:585: ConvergenceWarning: Stochastic Optimizer: Maximum iterations (200) reached and the optimization hasn't converged yet.\n",
      "  % self.max_iter, ConvergenceWarning)\n",
      "c:\\users\\achin\\tf1\\lib\\site-packages\\sklearn\\neural_network\\_multilayer_perceptron.py:585: ConvergenceWarning: Stochastic Optimizer: Maximum iterations (200) reached and the optimization hasn't converged yet.\n",
      "  % self.max_iter, ConvergenceWarning)\n",
      "c:\\users\\achin\\tf1\\lib\\site-packages\\sklearn\\neural_network\\_multilayer_perceptron.py:585: ConvergenceWarning: Stochastic Optimizer: Maximum iterations (200) reached and the optimization hasn't converged yet.\n",
      "  % self.max_iter, ConvergenceWarning)\n",
      "c:\\users\\achin\\tf1\\lib\\site-packages\\sklearn\\neural_network\\_multilayer_perceptron.py:585: ConvergenceWarning: Stochastic Optimizer: Maximum iterations (200) reached and the optimization hasn't converged yet.\n",
      "  % self.max_iter, ConvergenceWarning)\n",
      "c:\\users\\achin\\tf1\\lib\\site-packages\\sklearn\\neural_network\\_multilayer_perceptron.py:585: ConvergenceWarning: Stochastic Optimizer: Maximum iterations (200) reached and the optimization hasn't converged yet.\n",
      "  % self.max_iter, ConvergenceWarning)\n",
      "c:\\users\\achin\\tf1\\lib\\site-packages\\sklearn\\neural_network\\_multilayer_perceptron.py:585: ConvergenceWarning: Stochastic Optimizer: Maximum iterations (200) reached and the optimization hasn't converged yet.\n",
      "  % self.max_iter, ConvergenceWarning)\n",
      "c:\\users\\achin\\tf1\\lib\\site-packages\\sklearn\\neural_network\\_multilayer_perceptron.py:585: ConvergenceWarning: Stochastic Optimizer: Maximum iterations (200) reached and the optimization hasn't converged yet.\n",
      "  % self.max_iter, ConvergenceWarning)\n",
      "c:\\users\\achin\\tf1\\lib\\site-packages\\sklearn\\neural_network\\_multilayer_perceptron.py:585: ConvergenceWarning: Stochastic Optimizer: Maximum iterations (200) reached and the optimization hasn't converged yet.\n",
      "  % self.max_iter, ConvergenceWarning)\n",
      "c:\\users\\achin\\tf1\\lib\\site-packages\\sklearn\\neural_network\\_multilayer_perceptron.py:585: ConvergenceWarning: Stochastic Optimizer: Maximum iterations (200) reached and the optimization hasn't converged yet.\n",
      "  % self.max_iter, ConvergenceWarning)\n",
      "c:\\users\\achin\\tf1\\lib\\site-packages\\sklearn\\neural_network\\_multilayer_perceptron.py:585: ConvergenceWarning: Stochastic Optimizer: Maximum iterations (200) reached and the optimization hasn't converged yet.\n",
      "  % self.max_iter, ConvergenceWarning)\n",
      "c:\\users\\achin\\tf1\\lib\\site-packages\\sklearn\\neural_network\\_multilayer_perceptron.py:585: ConvergenceWarning: Stochastic Optimizer: Maximum iterations (200) reached and the optimization hasn't converged yet.\n",
      "  % self.max_iter, ConvergenceWarning)\n",
      "c:\\users\\achin\\tf1\\lib\\site-packages\\sklearn\\neural_network\\_multilayer_perceptron.py:585: ConvergenceWarning: Stochastic Optimizer: Maximum iterations (200) reached and the optimization hasn't converged yet.\n",
      "  % self.max_iter, ConvergenceWarning)\n",
      "c:\\users\\achin\\tf1\\lib\\site-packages\\sklearn\\neural_network\\_multilayer_perceptron.py:585: ConvergenceWarning: Stochastic Optimizer: Maximum iterations (200) reached and the optimization hasn't converged yet.\n",
      "  % self.max_iter, ConvergenceWarning)\n",
      "c:\\users\\achin\\tf1\\lib\\site-packages\\sklearn\\neural_network\\_multilayer_perceptron.py:585: ConvergenceWarning: Stochastic Optimizer: Maximum iterations (200) reached and the optimization hasn't converged yet.\n",
      "  % self.max_iter, ConvergenceWarning)\n",
      "c:\\users\\achin\\tf1\\lib\\site-packages\\sklearn\\neural_network\\_multilayer_perceptron.py:585: ConvergenceWarning: Stochastic Optimizer: Maximum iterations (200) reached and the optimization hasn't converged yet.\n",
      "  % self.max_iter, ConvergenceWarning)\n",
      "c:\\users\\achin\\tf1\\lib\\site-packages\\sklearn\\neural_network\\_multilayer_perceptron.py:585: ConvergenceWarning: Stochastic Optimizer: Maximum iterations (200) reached and the optimization hasn't converged yet.\n",
      "  % self.max_iter, ConvergenceWarning)\n",
      "c:\\users\\achin\\tf1\\lib\\site-packages\\sklearn\\neural_network\\_multilayer_perceptron.py:585: ConvergenceWarning: Stochastic Optimizer: Maximum iterations (200) reached and the optimization hasn't converged yet.\n",
      "  % self.max_iter, ConvergenceWarning)\n",
      "c:\\users\\achin\\tf1\\lib\\site-packages\\sklearn\\neural_network\\_multilayer_perceptron.py:585: ConvergenceWarning: Stochastic Optimizer: Maximum iterations (200) reached and the optimization hasn't converged yet.\n",
      "  % self.max_iter, ConvergenceWarning)\n",
      "c:\\users\\achin\\tf1\\lib\\site-packages\\sklearn\\neural_network\\_multilayer_perceptron.py:585: ConvergenceWarning: Stochastic Optimizer: Maximum iterations (200) reached and the optimization hasn't converged yet.\n",
      "  % self.max_iter, ConvergenceWarning)\n",
      "c:\\users\\achin\\tf1\\lib\\site-packages\\sklearn\\neural_network\\_multilayer_perceptron.py:585: ConvergenceWarning: Stochastic Optimizer: Maximum iterations (200) reached and the optimization hasn't converged yet.\n",
      "  % self.max_iter, ConvergenceWarning)\n",
      "c:\\users\\achin\\tf1\\lib\\site-packages\\sklearn\\neural_network\\_multilayer_perceptron.py:585: ConvergenceWarning: Stochastic Optimizer: Maximum iterations (200) reached and the optimization hasn't converged yet.\n",
      "  % self.max_iter, ConvergenceWarning)\n",
      "c:\\users\\achin\\tf1\\lib\\site-packages\\sklearn\\neural_network\\_multilayer_perceptron.py:585: ConvergenceWarning: Stochastic Optimizer: Maximum iterations (200) reached and the optimization hasn't converged yet.\n",
      "  % self.max_iter, ConvergenceWarning)\n",
      "c:\\users\\achin\\tf1\\lib\\site-packages\\sklearn\\neural_network\\_multilayer_perceptron.py:585: ConvergenceWarning: Stochastic Optimizer: Maximum iterations (200) reached and the optimization hasn't converged yet.\n",
      "  % self.max_iter, ConvergenceWarning)\n",
      "c:\\users\\achin\\tf1\\lib\\site-packages\\sklearn\\neural_network\\_multilayer_perceptron.py:585: ConvergenceWarning: Stochastic Optimizer: Maximum iterations (200) reached and the optimization hasn't converged yet.\n",
      "  % self.max_iter, ConvergenceWarning)\n",
      "c:\\users\\achin\\tf1\\lib\\site-packages\\sklearn\\neural_network\\_multilayer_perceptron.py:585: ConvergenceWarning: Stochastic Optimizer: Maximum iterations (200) reached and the optimization hasn't converged yet.\n",
      "  % self.max_iter, ConvergenceWarning)\n",
      "c:\\users\\achin\\tf1\\lib\\site-packages\\sklearn\\neural_network\\_multilayer_perceptron.py:585: ConvergenceWarning: Stochastic Optimizer: Maximum iterations (200) reached and the optimization hasn't converged yet.\n",
      "  % self.max_iter, ConvergenceWarning)\n",
      "c:\\users\\achin\\tf1\\lib\\site-packages\\sklearn\\neural_network\\_multilayer_perceptron.py:585: ConvergenceWarning: Stochastic Optimizer: Maximum iterations (200) reached and the optimization hasn't converged yet.\n",
      "  % self.max_iter, ConvergenceWarning)\n",
      "c:\\users\\achin\\tf1\\lib\\site-packages\\sklearn\\neural_network\\_multilayer_perceptron.py:585: ConvergenceWarning: Stochastic Optimizer: Maximum iterations (200) reached and the optimization hasn't converged yet.\n",
      "  % self.max_iter, ConvergenceWarning)\n",
      "c:\\users\\achin\\tf1\\lib\\site-packages\\sklearn\\neural_network\\_multilayer_perceptron.py:585: ConvergenceWarning: Stochastic Optimizer: Maximum iterations (200) reached and the optimization hasn't converged yet.\n",
      "  % self.max_iter, ConvergenceWarning)\n",
      "c:\\users\\achin\\tf1\\lib\\site-packages\\sklearn\\neural_network\\_multilayer_perceptron.py:585: ConvergenceWarning: Stochastic Optimizer: Maximum iterations (200) reached and the optimization hasn't converged yet.\n",
      "  % self.max_iter, ConvergenceWarning)\n",
      "c:\\users\\achin\\tf1\\lib\\site-packages\\sklearn\\neural_network\\_multilayer_perceptron.py:585: ConvergenceWarning: Stochastic Optimizer: Maximum iterations (200) reached and the optimization hasn't converged yet.\n",
      "  % self.max_iter, ConvergenceWarning)\n"
     ]
    },
    {
     "name": "stderr",
     "output_type": "stream",
     "text": [
      "c:\\users\\achin\\tf1\\lib\\site-packages\\sklearn\\neural_network\\_multilayer_perceptron.py:585: ConvergenceWarning: Stochastic Optimizer: Maximum iterations (200) reached and the optimization hasn't converged yet.\n",
      "  % self.max_iter, ConvergenceWarning)\n",
      "c:\\users\\achin\\tf1\\lib\\site-packages\\sklearn\\neural_network\\_multilayer_perceptron.py:585: ConvergenceWarning: Stochastic Optimizer: Maximum iterations (200) reached and the optimization hasn't converged yet.\n",
      "  % self.max_iter, ConvergenceWarning)\n",
      "c:\\users\\achin\\tf1\\lib\\site-packages\\sklearn\\neural_network\\_multilayer_perceptron.py:585: ConvergenceWarning: Stochastic Optimizer: Maximum iterations (200) reached and the optimization hasn't converged yet.\n",
      "  % self.max_iter, ConvergenceWarning)\n",
      "c:\\users\\achin\\tf1\\lib\\site-packages\\sklearn\\neural_network\\_multilayer_perceptron.py:585: ConvergenceWarning: Stochastic Optimizer: Maximum iterations (200) reached and the optimization hasn't converged yet.\n",
      "  % self.max_iter, ConvergenceWarning)\n",
      "c:\\users\\achin\\tf1\\lib\\site-packages\\sklearn\\neural_network\\_multilayer_perceptron.py:585: ConvergenceWarning: Stochastic Optimizer: Maximum iterations (200) reached and the optimization hasn't converged yet.\n",
      "  % self.max_iter, ConvergenceWarning)\n",
      "c:\\users\\achin\\tf1\\lib\\site-packages\\sklearn\\neural_network\\_multilayer_perceptron.py:585: ConvergenceWarning: Stochastic Optimizer: Maximum iterations (200) reached and the optimization hasn't converged yet.\n",
      "  % self.max_iter, ConvergenceWarning)\n",
      "c:\\users\\achin\\tf1\\lib\\site-packages\\sklearn\\neural_network\\_multilayer_perceptron.py:585: ConvergenceWarning: Stochastic Optimizer: Maximum iterations (200) reached and the optimization hasn't converged yet.\n",
      "  % self.max_iter, ConvergenceWarning)\n",
      "c:\\users\\achin\\tf1\\lib\\site-packages\\sklearn\\neural_network\\_multilayer_perceptron.py:585: ConvergenceWarning: Stochastic Optimizer: Maximum iterations (200) reached and the optimization hasn't converged yet.\n",
      "  % self.max_iter, ConvergenceWarning)\n",
      "c:\\users\\achin\\tf1\\lib\\site-packages\\sklearn\\neural_network\\_multilayer_perceptron.py:585: ConvergenceWarning: Stochastic Optimizer: Maximum iterations (200) reached and the optimization hasn't converged yet.\n",
      "  % self.max_iter, ConvergenceWarning)\n",
      "c:\\users\\achin\\tf1\\lib\\site-packages\\sklearn\\neural_network\\_multilayer_perceptron.py:585: ConvergenceWarning: Stochastic Optimizer: Maximum iterations (200) reached and the optimization hasn't converged yet.\n",
      "  % self.max_iter, ConvergenceWarning)\n",
      "c:\\users\\achin\\tf1\\lib\\site-packages\\sklearn\\neural_network\\_multilayer_perceptron.py:585: ConvergenceWarning: Stochastic Optimizer: Maximum iterations (200) reached and the optimization hasn't converged yet.\n",
      "  % self.max_iter, ConvergenceWarning)\n",
      "c:\\users\\achin\\tf1\\lib\\site-packages\\sklearn\\neural_network\\_multilayer_perceptron.py:585: ConvergenceWarning: Stochastic Optimizer: Maximum iterations (200) reached and the optimization hasn't converged yet.\n",
      "  % self.max_iter, ConvergenceWarning)\n",
      "c:\\users\\achin\\tf1\\lib\\site-packages\\sklearn\\neural_network\\_multilayer_perceptron.py:585: ConvergenceWarning: Stochastic Optimizer: Maximum iterations (200) reached and the optimization hasn't converged yet.\n",
      "  % self.max_iter, ConvergenceWarning)\n",
      "c:\\users\\achin\\tf1\\lib\\site-packages\\sklearn\\neural_network\\_multilayer_perceptron.py:585: ConvergenceWarning: Stochastic Optimizer: Maximum iterations (200) reached and the optimization hasn't converged yet.\n",
      "  % self.max_iter, ConvergenceWarning)\n",
      "c:\\users\\achin\\tf1\\lib\\site-packages\\sklearn\\neural_network\\_multilayer_perceptron.py:585: ConvergenceWarning: Stochastic Optimizer: Maximum iterations (200) reached and the optimization hasn't converged yet.\n",
      "  % self.max_iter, ConvergenceWarning)\n"
     ]
    },
    {
     "data": {
      "text/plain": [
       "<matplotlib.legend.Legend at 0x1a108edce48>"
      ]
     },
     "execution_count": 42,
     "metadata": {},
     "output_type": "execute_result"
    },
    {
     "data": {
      "image/png": "[encoded data removed]",
      "text/plain": [
       "<Figure size 432x288 with 1 Axes>"
      ]
     },
     "metadata": {
      "needs_background": "light"
     },
     "output_type": "display_data"
    }
   ],
   "source": [
    "#파라미터 변경 Hedden Layer\n",
    "train_accuracy = []\n",
    "val_accuracy = []\n",
    "para_hidden = [c for c in range(1,50)]\n",
    "\n",
    "for v_hidden in para_hidden:\n",
    "    nn = MLPClassifier(hidden_layer_sizes=(v_hidden,v_hidden),random_state=1234)\n",
    "    nn.fit(df_train_x, df_train_y)\n",
    "    train_accuracy.append(nn.score(df_train_x,df_train_y))\n",
    "    val_accuracy.append(nn.score(df_val_x,df_val_y))\n",
    "    \n",
    "df_score_hidden = pd.DataFrame()\n",
    "df_score_hidden[\"HiddenLayer\"]=para_hidden\n",
    "df_score_hidden[\"TrainAccuracy\"]=train_accuracy\n",
    "df_score_hidden[\"valAccuracy\"]=val_accuracy\n",
    "df_score_hidden.round(3)\n",
    "\n",
    "plt.plot(para_hidden, train_accuracy,linestyle=\"-\",label = \"Train Score\")\n",
    "plt.plot(para_hidden, val_accuracy,linestyle=\"-\",label = \"val Score\")\n",
    "plt.ylabel(\"accuracy\")\n",
    "plt.xlabel(\"C\")\n",
    "plt.legend()"
   ]
  },
  {
   "cell_type": "code",
   "execution_count": 43,
   "metadata": {},
   "outputs": [
    {
     "name": "stderr",
     "output_type": "stream",
     "text": [
      "c:\\users\\achin\\tf1\\lib\\site-packages\\sklearn\\neural_network\\_multilayer_perceptron.py:585: ConvergenceWarning: Stochastic Optimizer: Maximum iterations (200) reached and the optimization hasn't converged yet.\n",
      "  % self.max_iter, ConvergenceWarning)\n",
      "c:\\users\\achin\\tf1\\lib\\site-packages\\sklearn\\neural_network\\_multilayer_perceptron.py:585: ConvergenceWarning: Stochastic Optimizer: Maximum iterations (200) reached and the optimization hasn't converged yet.\n",
      "  % self.max_iter, ConvergenceWarning)\n",
      "c:\\users\\achin\\tf1\\lib\\site-packages\\sklearn\\neural_network\\_multilayer_perceptron.py:585: ConvergenceWarning: Stochastic Optimizer: Maximum iterations (200) reached and the optimization hasn't converged yet.\n",
      "  % self.max_iter, ConvergenceWarning)\n"
     ]
    },
    {
     "data": {
      "text/plain": [
       "<matplotlib.legend.Legend at 0x1a108f4a9e8>"
      ]
     },
     "execution_count": 43,
     "metadata": {},
     "output_type": "execute_result"
    },
    {
     "data": {
      "image/png": "[encoded data removed]",
      "text/plain": [
       "<Figure size 432x288 with 1 Axes>"
      ]
     },
     "metadata": {
      "needs_background": "light"
     },
     "output_type": "display_data"
    }
   ],
   "source": [
    "#파라미터 변경 Activation\n",
    "train_accuracy = []\n",
    "val_accuracy = []\n",
    "para_function = [\"logistic\",\"tanh\",\"relu\"]\n",
    "\n",
    "for v_function in para_function:\n",
    "    nn = MLPClassifier(activation=v_function,random_state=1234)\n",
    "    nn.fit(df_train_x, df_train_y)\n",
    "    train_accuracy.append(nn.score(df_train_x,df_train_y))\n",
    "    val_accuracy.append(nn.score(df_val_x,df_val_y))\n",
    "    \n",
    "df_score_function= pd.DataFrame()\n",
    "df_score_function[\"ActivationFunction\"]=para_function\n",
    "df_score_function[\"TrainAccuracy\"]=train_accuracy\n",
    "df_score_function[\"ValAccuracy\"]=val_accuracy\n",
    "df_score_function.round(3)\n",
    "\n",
    "plt.plot(para_function, train_accuracy,linestyle=\"-\",label = \"Train Score\")\n",
    "plt.plot(para_function, val_accuracy,linestyle=\"-\",label = \"val Score\")\n",
    "plt.ylabel(\"accuracy\")\n",
    "plt.xlabel(\"C\")\n",
    "plt.legend()"
   ]
  },
  {
   "cell_type": "markdown",
   "metadata": {},
   "source": [
    "# 스케일 변화"
   ]
  },
  {
   "cell_type": "code",
   "execution_count": 44,
   "metadata": {},
   "outputs": [
    {
     "ename": "NameError",
     "evalue": "name 'df_scaled_train_x' is not defined",
     "output_type": "error",
     "traceback": [
      "\u001b[1;31m---------------------------------------------------------------------------\u001b[0m",
      "\u001b[1;31mNameError\u001b[0m                                 Traceback (most recent call last)",
      "\u001b[1;32m<ipython-input-44-76aadbcf7cee>\u001b[0m in \u001b[0;36m<module>\u001b[1;34m\u001b[0m\n\u001b[1;32m----> 1\u001b[1;33m \u001b[0mdf_scaled_train_x\u001b[0m\u001b[1;33m\u001b[0m\u001b[1;33m\u001b[0m\u001b[0m\n\u001b[0m",
      "\u001b[1;31mNameError\u001b[0m: name 'df_scaled_train_x' is not defined"
     ]
    }
   ],
   "source": [
    "df_scaled_train_x"
   ]
  },
  {
   "cell_type": "code",
   "execution_count": 45,
   "metadata": {},
   "outputs": [
    {
     "ename": "NameError",
     "evalue": "name 'df_scaled_train_x' is not defined",
     "output_type": "error",
     "traceback": [
      "\u001b[1;31m---------------------------------------------------------------------------\u001b[0m",
      "\u001b[1;31mNameError\u001b[0m                                 Traceback (most recent call last)",
      "\u001b[1;32m<ipython-input-45-f28104eabc7c>\u001b[0m in \u001b[0;36m<module>\u001b[1;34m\u001b[0m\n\u001b[0;32m      1\u001b[0m \u001b[0mnn_scaled\u001b[0m\u001b[1;33m=\u001b[0m\u001b[0mMLPClassifier\u001b[0m\u001b[1;33m(\u001b[0m\u001b[0mrandom_state\u001b[0m\u001b[1;33m=\u001b[0m\u001b[1;36m1234\u001b[0m\u001b[1;33m,\u001b[0m\u001b[0mhidden_layer_sizes\u001b[0m\u001b[1;33m=\u001b[0m\u001b[1;33m(\u001b[0m\u001b[1;36m80\u001b[0m\u001b[1;33m,\u001b[0m\u001b[1;36m80\u001b[0m\u001b[1;33m,\u001b[0m\u001b[1;36m80\u001b[0m\u001b[1;33m,\u001b[0m\u001b[1;36m80\u001b[0m\u001b[1;33m,\u001b[0m\u001b[1;36m80\u001b[0m\u001b[1;33m,\u001b[0m\u001b[1;36m80\u001b[0m\u001b[1;33m,\u001b[0m\u001b[1;36m80\u001b[0m\u001b[1;33m)\u001b[0m\u001b[1;33m,\u001b[0m\u001b[0msolver\u001b[0m\u001b[1;33m=\u001b[0m\u001b[1;34m\"adam\"\u001b[0m\u001b[1;33m,\u001b[0m\u001b[0mactivation\u001b[0m\u001b[1;33m=\u001b[0m\u001b[1;34m\"relu\"\u001b[0m\u001b[1;33m)\u001b[0m\u001b[1;33m\u001b[0m\u001b[1;33m\u001b[0m\u001b[0m\n\u001b[1;32m----> 2\u001b[1;33m \u001b[0mnn_scaled\u001b[0m\u001b[1;33m.\u001b[0m\u001b[0mfit\u001b[0m\u001b[1;33m(\u001b[0m\u001b[0mdf_scaled_train_x\u001b[0m\u001b[1;33m,\u001b[0m\u001b[0mdf_train_y\u001b[0m\u001b[1;33m)\u001b[0m\u001b[1;33m\u001b[0m\u001b[1;33m\u001b[0m\u001b[0m\n\u001b[0m\u001b[0;32m      3\u001b[0m \u001b[0mprint\u001b[0m\u001b[1;33m(\u001b[0m\u001b[1;34m\"Accuracy on training set:{:.3f}\"\u001b[0m\u001b[1;33m.\u001b[0m\u001b[0mformat\u001b[0m\u001b[1;33m(\u001b[0m\u001b[0mnn_scaled\u001b[0m\u001b[1;33m.\u001b[0m\u001b[0mscore\u001b[0m\u001b[1;33m(\u001b[0m\u001b[0mdf_scaled_train_x\u001b[0m\u001b[1;33m,\u001b[0m\u001b[0mdf_train_y\u001b[0m\u001b[1;33m)\u001b[0m\u001b[1;33m)\u001b[0m\u001b[1;33m)\u001b[0m\u001b[1;33m\u001b[0m\u001b[1;33m\u001b[0m\u001b[0m\n\u001b[0;32m      4\u001b[0m \u001b[0mprint\u001b[0m\u001b[1;33m(\u001b[0m\u001b[1;34m\"Accuracy on test set:{:.3f}\"\u001b[0m\u001b[1;33m.\u001b[0m\u001b[0mformat\u001b[0m\u001b[1;33m(\u001b[0m\u001b[0mnn_scaled\u001b[0m\u001b[1;33m.\u001b[0m\u001b[0mscore\u001b[0m\u001b[1;33m(\u001b[0m\u001b[0mdf_scaled_val_x\u001b[0m\u001b[1;33m,\u001b[0m\u001b[0mdf_val_y\u001b[0m\u001b[1;33m)\u001b[0m\u001b[1;33m)\u001b[0m\u001b[1;33m)\u001b[0m\u001b[1;33m\u001b[0m\u001b[1;33m\u001b[0m\u001b[0m\n",
      "\u001b[1;31mNameError\u001b[0m: name 'df_scaled_train_x' is not defined"
     ]
    }
   ],
   "source": [
    "nn_scaled=MLPClassifier(random_state=1234,hidden_layer_sizes=(80,80,80,80,80,80,80),solver=\"adam\",activation=\"relu\")\n",
    "nn_scaled.fit(df_scaled_train_x,df_train_y)\n",
    "print(\"Accuracy on training set:{:.3f}\".format(nn_scaled.score(df_scaled_train_x,df_train_y)))\n",
    "print(\"Accuracy on test set:{:.3f}\".format(nn_scaled.score(df_scaled_val_x,df_val_y)))"
   ]
  },
  {
   "cell_type": "code",
   "execution_count": null,
   "metadata": {},
   "outputs": [],
   "source": [
    "#파라미터 변경 Hedden Layer\n",
    "train_accuracy = []\n",
    "val_accuracy = []\n",
    "para_hidden = [20**c for c in range(1,9)]\n",
    "\n",
    "for v_hidden in para_hidden:\n",
    "    nn = MLPClassifier(hidden_layer_sizes=v_hidden,random_state=1234)\n",
    "    nn.fit(df_scaled_train_x, df_train_y)\n",
    "    train_accuracy.append(nn.score(df_scaled_train_x,df_train_y))\n",
    "    val_accuracy.append(nn.score(df_scaled_val_x,df_val_y))\n",
    "    \n",
    "df_score_hidden = pd.DataFrame()\n",
    "df_score_hidden[\"HiddenLayer\"]=para_hidden\n",
    "df_score_hidden[\"TrainAccuracy\"]=train_accuracy\n",
    "df_score_hidden[\"valAccuracy\"]=val_accuracy\n",
    "df_score_hidden.round(3)\n",
    "\n",
    "plt.plot(para_hidden, train_accuracy,linestyle=\"-\",label = \"Train Score\")\n",
    "plt.plot(para_hidden, val_accuracy,linestyle=\"-\",label = \"val Score\")\n",
    "plt.ylabel(\"accuracy\")\n",
    "plt.xlabel(\"C\")\n",
    "plt.legend()"
   ]
  },
  {
   "cell_type": "code",
   "execution_count": null,
   "metadata": {},
   "outputs": [],
   "source": [
    "#파라미터 변경 Activation\n",
    "train_accuracy = []\n",
    "val_accuracy = []\n",
    "para_function = [\"logistic\",\"tanh\",\"relu\"]\n",
    "\n",
    "for v_function in para_function:\n",
    "    nn = MLPClassifier(activation=v_function,random_state=1234)\n",
    "    nn.fit(df_scaled_train_x, df_train_y)\n",
    "    train_accuracy.append(nn.score(df_scaled_train_x,df_train_y))\n",
    "    val_accuracy.append(nn.score(df_scaled_val_x,df_val_y))\n",
    "    \n",
    "df_score_function= pd.DataFrame()\n",
    "df_score_function[\"ActivationFunction\"]=para_function\n",
    "df_score_function[\"TrainAccuracy\"]=train_accuracy\n",
    "df_score_function[\"ValAccuracy\"]=val_accuracy\n",
    "df_score_function.round(3)\n",
    "\n",
    "plt.plot(para_function, train_accuracy,linestyle=\"-\",label = \"Train Score\")\n",
    "plt.plot(para_function, val_accuracy,linestyle=\"-\",label = \"val Score\")\n",
    "plt.ylabel(\"accuracy\")\n",
    "plt.xlabel(\"C\")\n",
    "plt.legend()"
   ]
  },
  {
   "cell_type": "code",
   "execution_count": null,
   "metadata": {},
   "outputs": [],
   "source": [
    "#파라미터 변경 Solver\n",
    "train_accuracy = []\n",
    "val_accuracy = []\n",
    "para_solver = [\"lbfgs\",\"sgd\",\"adam\"]\n",
    "\n",
    "for v_solver in para_solver:\n",
    "    nn = MLPClassifier(activation=v_solver,random_state=1234,hidden_layer_sized=(80,80),random_state=1234)\n",
    "    nn.fit(df_scaled_train_x, df_train_y)\n",
    "    train_accuracy.append(nn.score(df_scaled_train_x,df_train_y))\n",
    "    val_accuracy.append(nn.score(df_scaled_val_x,df_val_y))\n",
    "    \n",
    "df_score_solver= pd.DataFrame()\n",
    "df_score_solver[\"Solver\"]=para_function\n",
    "df_score_solver[\"TrainAccuracy\"]=train_accuracy\n",
    "df_score_solver[\"ValAccuracy\"]=val_accuracy\n",
    "df_score_function.round(3)\n",
    "\n",
    "plt.plot(para_solver, train_accuracy,linestyle=\"-\",label = \"Train Score\")\n",
    "plt.plot(para_solver, val_accuracy,linestyle=\"-\",label = \"val Score\")\n",
    "plt.ylabel(\"accuracy\")\n",
    "plt.xlabel(\"C\")\n",
    "plt.legend()"
   ]
  },
  {
   "cell_type": "code",
   "execution_count": null,
   "metadata": {},
   "outputs": [],
   "source": [
    "#파라미터 변경 Mini Batch\n",
    "train_accuracy = []\n",
    "val_accuracy = []\n",
    "para_batch = [20*batch for batch in range(1,10)]\n",
    "\n",
    "for v_batch in para_batch:\n",
    "    nn = MLPClassifier(batch_size=v_batch,solver=\"adam\",activation=\"relu\",random_state=1234,hidden_layer_sized=(80,80),random_state=1234)\n",
    "    nn.fit(df_scaled_train_x, df_train_y)\n",
    "    train_accuracy.append(nn.score(df_scaled_train_x,df_train_y))\n",
    "    val_accuracy.append(nn.score(df_scaled_val_x,df_val_y))\n",
    "    \n",
    "df_score_solver= pd.DataFrame()\n",
    "df_score_solver[\"Solver\"]=para_batch\n",
    "df_score_solver[\"TrainAccuracy\"]=train_accuracy\n",
    "df_score_solver[\"ValAccuracy\"]=val_accuracy\n",
    "df_score_function.round(3)\n",
    "\n",
    "plt.plot(para_batch, train_accuracy,linestyle=\"-\",label = \"Train Score\")\n",
    "plt.plot(para_batch, val_accuracy,linestyle=\"-\",label = \"val Score\")\n",
    "plt.ylabel(\"accuracy\")\n",
    "plt.xlabel(\"C\")\n",
    "plt.legend()"
   ]
  },
  {
   "cell_type": "code",
   "execution_count": null,
   "metadata": {},
   "outputs": [],
   "source": [
    "nn_final= MLPClassifier(solver=\"adam\",activation=\"relu\",hidden_layer_sized=(4,4,4,4,4),random_state=1234)\n",
    "nn_final.fit(df_scaled_train_x, df_train_y)\n"
   ]
  },
  {
   "cell_type": "code",
   "execution_count": null,
   "metadata": {},
   "outputs": [],
   "source": [
    "y_pred=nn_final.predict(df_test_x)\n",
    "print(\"Accuracy:{0:.3f}\\n\".format(nn_final.score(df_test_x,df_test_y)))\n",
    "print(\"Confusion matrix:\\n{}\".format(confusion_matrix(df_test_y,y_pred)))"
   ]
  },
  {
   "cell_type": "code",
   "execution_count": null,
   "metadata": {},
   "outputs": [],
   "source": []
  },
  {
   "cell_type": "markdown",
   "metadata": {},
   "source": [
    "# 랜덤포레스트"
   ]
  },
  {
   "cell_type": "code",
   "execution_count": 46,
   "metadata": {},
   "outputs": [
    {
     "name": "stdout",
     "output_type": "stream",
     "text": [
      "Accuracy on training set:1.000\n",
      "Accuracy on valid set:0.935\n"
     ]
    }
   ],
   "source": [
    "rf_uncustomized=RandomForestClassifier(random_state=1234)\n",
    "rf_uncustomized.fit(df_train_x,df_train_y)\n",
    "\n",
    "print(\"Accuracy on training set:{:.3f}\".format(rf_uncustomized.score(df_train_x,df_train_y)))\n",
    "#valid 데이터 설명력\n",
    "print(\"Accuracy on valid set:{:.3f}\".format(rf_uncustomized.score(df_val_x,df_val_y)))\n",
    "#모델 설명력은 train 100%, test 93.5%로 모델은 train 데이터에 과대적합"
   ]
  },
  {
   "cell_type": "code",
   "execution_count": 47,
   "metadata": {},
   "outputs": [
    {
     "name": "stdout",
     "output_type": "stream",
     "text": [
      "Accuracy:0.938\n",
      "\n",
      "Confusion matrix:\n",
      "[[101   2]\n",
      " [  7  34]]\n"
     ]
    }
   ],
   "source": [
    "y_pred=rf_uncustomized.predict(df_test_x)\n",
    "print(\"Accuracy:{0:.3f}\\n\".format(rf_uncustomized.score(df_test_x,df_test_y)))\n",
    "print(\"Confusion matrix:\\n{}\".format(confusion_matrix(df_test_y,y_pred)))"
   ]
  },
  {
   "cell_type": "code",
   "execution_count": null,
   "metadata": {},
   "outputs": [],
   "source": [
    "#n_estimators:트리 수 변경에 따른 모델 성능\n",
    "train_accuracy=[];valid_accuracy=[]\n",
    "para_n_tree=[n_tree*10 for n_tree in range(1,16)]\n",
    "\n",
    "for v_n_estimators in para_n_tree:\n",
    "    rf=RandomForestClassifier(n_estimators=v_n_estimators,random_state=1234)\n",
    "    rf.fit(df_train_x,df_train_y)\n",
    "    train_accuracy.append(rf.score(df_train_x,df_train_y))\n",
    "    valid_accuracy.append(rf.score(df_val_x,df_val_y))\n",
    "    \n",
    "df_accuracy_n=pd.DataFrame()\n",
    "df_accuracy_n[\"n_estimators\"]=para_n_tree\n",
    "df_accuracy_n[\"TrainAccuracy\"]=train_accuracy\n",
    "df_accuracy_n[\"ValidAccuracy\"]=valid_accuracy"
   ]
  },
  {
   "cell_type": "code",
   "execution_count": null,
   "metadata": {},
   "outputs": [],
   "source": [
    "df_accuracy_n.round(3)\n",
    "plt.plot(para_n_tree,train_accuracy,linestyle='-',label='Train Accuracy')\n",
    "plt.plot(para_n_tree,valid_accuracy,linestyle='-',label='Valid Accuracy')\n",
    "plt.xlabel(\"n_estimators\");plt.ylabel(\"accuracy\")\n",
    "plt.legend()\n",
    "#생성하는 결정 트리 수 증가에 따라 모델의 정확도는 증가\n",
    "#Test/valid 데이터의 성능 변화를 고려하여 60 선정\n",
    "#valid 데이터의 성능 변화를 고려하여 100 선정 가능\n",
    "#n_estimators=60"
   ]
  },
  {
   "cell_type": "code",
   "execution_count": null,
   "metadata": {},
   "outputs": [],
   "source": [
    "#max depth에 따른 모델 성능\n",
    "train_accuracy=[];valid_accuracy=[]\n",
    "para_depth=[depth for depth in range(1,11)]\n",
    "\n",
    "for v_max_depth in para_depth:\n",
    "    rf=RandomForestClassifier(max_depth=v_max_depth,n_estimators=30,random_state=1234)\n",
    "    rf.fit(df_train_x,df_train_y)\n",
    "    train_accuracy.append(rf.score(df_train_x,df_train_y))\n",
    "    valid_accuracy.append(rf.score(df_val_x,df_val_y))\n",
    "    \n",
    "df_accuracy_depth=pd.DataFrame()\n",
    "df_accuracy_depth[\"Depth\"]=para_depth\n",
    "df_accuracy_depth[\"TrainAccuracy\"]=train_accuracy\n",
    "df_accuracy_depth[\"ValidAccuracy\"]=valid_accuracy"
   ]
  },
  {
   "cell_type": "code",
   "execution_count": null,
   "metadata": {},
   "outputs": [],
   "source": [
    "df_accuracy_n.round(3)\n",
    "plt.plot(para_depth,train_accuracy,linestyle='-',label='Train Accuracy')\n",
    "plt.plot(para_depth,valid_accuracy,linestyle='-',label='Valid Accuracy')\n",
    "plt.xlabel(\"max depth\");plt.ylabel(\"accuracy\")\n",
    "plt.legend()\n",
    "#최대 깊이 증가에 따라 모델의 정확도는 증가\n",
    "#하지만 깊이가 너무 커지면 overfitting의 위험이 존재\n",
    "#Test/valid 데이터의 성능 변화를 고려하여 3 선정\n"
   ]
  },
  {
   "cell_type": "code",
   "execution_count": null,
   "metadata": {},
   "outputs": [],
   "source": [
    "#min samples split 분리 노드의 최소 자료 수 변경에 따른 모델 성능\n",
    "train_accuracy=[];valid_accuracy=[]\n",
    "para_split=[n_split*10 for n_split in range(1,11)]\n",
    "\n",
    "for v_min_samples_split in para_split:\n",
    "    rf=RandomForestClassifier(min_samples_split=v_min_samples_split,max_depth=4,n_estimators=100,random_state=1234)\n",
    "    rf.fit(df_train_x,df_train_y)\n",
    "    train_accuracy.append(rf.score(df_train_x,df_train_y))\n",
    "    valid_accuracy.append(rf.score(df_val_x,df_val_y))\n",
    "    \n",
    "df_accuracy_split=pd.DataFrame()\n",
    "df_accuracy_split[\"MinSamplesSplit\"]=para_split\n",
    "df_accuracy_split[\"TrainAccuracy\"]=train_accuracy\n",
    "df_accuracy_split[\"ValidAccuracy\"]=valid_accuracy"
   ]
  },
  {
   "cell_type": "code",
   "execution_count": null,
   "metadata": {},
   "outputs": [],
   "source": [
    "\n",
    "plt.plot(para_split,train_accuracy,linestyle='-',label='Train Accuracy')\n",
    "plt.plot(para_split,valid_accuracy,linestyle='--',label='Valid Accuracy')\n",
    "plt.xlabel(\"min samples split\");plt.ylabel(\"accuracy\")\n",
    "plt.legend()\n",
    "#분리 노드의 최소 자료 수 증가에 따라 모델의 정확도는 감소하나\n",
    "#test 데이터의 성능 변화를 고려하면 70까지는 영향이 없으며\n",
    "#80부터 자료 수가 커서 underfitting이 일어남\n",
    "#min samples split=70df_accuracy_leaf.round(3)"
   ]
  },
  {
   "cell_type": "code",
   "execution_count": null,
   "metadata": {},
   "outputs": [],
   "source": [
    "rf_uncustomized=RandomForestClassifier(random_state=1234)\n",
    "rf_uncustomized.fit(df_train_x,df_train_y)\n",
    "\n",
    "print(\"Accuracy on training set:{:.3f}\".format(rf_uncustomized.score(df_train_x,df_train_y)))\n",
    "#valid 데이터 설명력\n",
    "print(\"Accuracy on valid set:{:.3f}\".format(rf_uncustomized.score(df_val_x,df_val_y)))\n",
    "#모델 설명력은 train 100%, test 93.5%로 모델은 train 데이터에 과대적합"
   ]
  },
  {
   "cell_type": "code",
   "execution_count": null,
   "metadata": {},
   "outputs": [],
   "source": [
    "y_pred=nn_uncustomized.predict(df_test_x)\n",
    "print(\"Accuracy:{0:.3f}\\n\".format(nn_uncustomized.score(df_test_x,df_test_y)))\n",
    "print(\"Confusion matrix:\\n{}\".format(confusion_matrix(df_test_y,y_pred)))"
   ]
  },
  {
   "cell_type": "code",
   "execution_count": null,
   "metadata": {},
   "outputs": [],
   "source": [
    "#GridSearchCV를 이용한 최적 parameter 찾기\n",
    "estimator=RandomForestClassifier(n_estimators=100,random_state=1234)\n",
    "\n",
    "param_grid={\"max_depth\":para_depth,\"min_samples_leaf\":para_leaf}\n",
    "\n",
    "grid_rf=GridSearchCV(estimator, param_grid,scoring='accuracy',n_jobs=-1)\n",
    "grid_rf.fit(df_train_x,df_train_y)\n",
    "print(\"best estimator model:\\n{}\".format(grid_rf.best_estimator_))\n",
    "print(\"\\nbest estimator model:\\n{}\".format(grid_rf.best_params_))\n",
    "print(\"\\nbest estimator model:\\n{}\".format(grid_rf.best_score_.round(3)))"
   ]
  },
  {
   "cell_type": "markdown",
   "metadata": {},
   "source": [
    "### 최적모델"
   ]
  },
  {
   "cell_type": "code",
   "execution_count": 20,
   "metadata": {},
   "outputs": [
    {
     "name": "stdout",
     "output_type": "stream",
     "text": [
      "Accuracy on training set:0.985\n",
      "Accuracy on valid set:0.935\n"
     ]
    }
   ],
   "source": [
    "rf_uncustomized=RandomForestClassifier(random_state=1234, max_depth=8, min_samples_leaf=2,n_estimators=100)\n",
    "rf_uncustomized.fit(df_train_x,df_train_y)\n",
    "\n",
    "print(\"Accuracy on training set:{:.3f}\".format(rf_uncustomized.score(df_train_x,df_train_y)))\n",
    "#valid 데이터 설명력\n",
    "print(\"Accuracy on valid set:{:.3f}\".format(rf_uncustomized.score(df_val_x,df_val_y)))\n",
    "#모델 설명력은 train 100%, test 93.5%로 모델은 train 데이터에 과대적합"
   ]
  },
  {
   "cell_type": "code",
   "execution_count": 21,
   "metadata": {},
   "outputs": [
    {
     "name": "stdout",
     "output_type": "stream",
     "text": [
      "MSE: 0.04861111111111111\n",
      "MAE: 0.04861111111111111\n",
      "RMSE: 0.22047927592204922\n",
      "MAPE: inf\n"
     ]
    },
    {
     "name": "stderr",
     "output_type": "stream",
     "text": [
      "c:\\users\\achin\\tf1\\lib\\site-packages\\matplotlib\\backends\\backend_agg.py:211: RuntimeWarning: Glyph 48320 missing from current font.\n",
      "  font.set_text(s, 0.0, flags=flags)\n",
      "c:\\users\\achin\\tf1\\lib\\site-packages\\matplotlib\\backends\\backend_agg.py:211: RuntimeWarning: Glyph 49688 missing from current font.\n",
      "  font.set_text(s, 0.0, flags=flags)\n",
      "c:\\users\\achin\\tf1\\lib\\site-packages\\matplotlib\\backends\\backend_agg.py:211: RuntimeWarning: Glyph 51473 missing from current font.\n",
      "  font.set_text(s, 0.0, flags=flags)\n",
      "c:\\users\\achin\\tf1\\lib\\site-packages\\matplotlib\\backends\\backend_agg.py:211: RuntimeWarning: Glyph 50836 missing from current font.\n",
      "  font.set_text(s, 0.0, flags=flags)\n",
      "c:\\users\\achin\\tf1\\lib\\site-packages\\matplotlib\\backends\\backend_agg.py:211: RuntimeWarning: Glyph 46020 missing from current font.\n",
      "  font.set_text(s, 0.0, flags=flags)\n",
      "c:\\users\\achin\\tf1\\lib\\site-packages\\matplotlib\\backends\\backend_agg.py:180: RuntimeWarning: Glyph 48320 missing from current font.\n",
      "  font.set_text(s, 0, flags=flags)\n",
      "c:\\users\\achin\\tf1\\lib\\site-packages\\matplotlib\\backends\\backend_agg.py:180: RuntimeWarning: Glyph 49688 missing from current font.\n",
      "  font.set_text(s, 0, flags=flags)\n",
      "c:\\users\\achin\\tf1\\lib\\site-packages\\matplotlib\\backends\\backend_agg.py:180: RuntimeWarning: Glyph 51473 missing from current font.\n",
      "  font.set_text(s, 0, flags=flags)\n",
      "c:\\users\\achin\\tf1\\lib\\site-packages\\matplotlib\\backends\\backend_agg.py:180: RuntimeWarning: Glyph 50836 missing from current font.\n",
      "  font.set_text(s, 0, flags=flags)\n",
      "c:\\users\\achin\\tf1\\lib\\site-packages\\matplotlib\\backends\\backend_agg.py:180: RuntimeWarning: Glyph 46020 missing from current font.\n",
      "  font.set_text(s, 0, flags=flags)\n"
     ]
    },
    {
     "data": {
      "image/png": "[encoded data removed]",
      "text/plain": [
       "<Figure size 432x288 with 1 Axes>"
      ]
     },
     "metadata": {
      "needs_background": "light"
     },
     "output_type": "display_data"
    }
   ],
   "source": [
    "v_feature_name=df_train_x.columns\n",
    "\n",
    "df_importance = pd.DataFrame()\n",
    "df_importance[\"Feature\"] = v_feature_name\n",
    "df_importance[\"Importance\"] = rf_uncustomized.feature_importances_\n",
    "df_importance.sort_values(\"Importance\",ascending=False, inplace = True)\n",
    "df_importance.round(3)\n",
    "\n",
    "y_pred=tree_final.predict(df_test_x)\n",
    "\n",
    "df_importance.sort_values(\"Importance\",ascending=True, inplace = True)\n",
    "coordinates=range(len(df_importance))\n",
    "plt.barh(y=coordinates, width = df_importance[\"Importance\"])\n",
    "plt.yticks(coordinates, df_importance[\"Feature\"])\n",
    "plt.xlabel(\"변수 중요도\")\n",
    "plt.ylabel(\"변수\")\n",
    "\n",
    "\n",
    "print ('MSE:', mean_squared_error(df_test_y, y_pred))\n",
    "print ('MAE:', mean_absolute_error(df_test_y, y_pred))\n",
    "print('RMSE:',root_mean_squared_error(df_test_y, y_pred))\n",
    "print('MAPE:',mean_absolute_percentage_error(df_test_y, y_pred))"
   ]
  },
  {
   "cell_type": "code",
   "execution_count": 49,
   "metadata": {},
   "outputs": [
    {
     "name": "stdout",
     "output_type": "stream",
     "text": [
      "Accuracy:0.938\n",
      "\n",
      "Confusion matrix:\n",
      "[[101   2]\n",
      " [  7  34]]\n"
     ]
    }
   ],
   "source": [
    "y_pred=rf_uncustomized.predict(df_test_x)\n",
    "print(\"Accuracy:{0:.3f}\\n\".format(rf_uncustomized.score(df_test_x,df_test_y)))\n",
    "print(\"Confusion matrix:\\n{}\".format(confusion_matrix(df_test_y,y_pred)))"
   ]
  },
  {
   "cell_type": "markdown",
   "metadata": {},
   "source": [
    "### importance"
   ]
  },
  {
   "cell_type": "code",
   "execution_count": null,
   "metadata": {},
   "outputs": [],
   "source": [
    "v_feature_name=df_train_x.columns\n",
    "\n",
    "df_importance=pd.DataFrame()\n",
    "df_importance[\"Feature\"]=v_feature_name\n",
    "df_importance[\"Importance\"]=rf_uncustomized.feature_importances_\n",
    "#df_importance 의 table을 중요도 순으로 정렬\n",
    "\n",
    "df_importance.sort_values(\"Importance\",ascending=False,inplace=True)\n",
    "df_importance.round(3)\n",
    "df_importance.head(20)"
   ]
  },
  {
   "cell_type": "code",
   "execution_count": null,
   "metadata": {
    "scrolled": true
   },
   "outputs": [],
   "source": [
    "#중요도가 높은 변수를 상위에 그림\n",
    "df_importance.sort_values(\"Importance\",ascending=True,inplace=True)\n",
    "coordinates=range(len(df_importance))\n",
    "plt.barh(y=coordinates,width=df_importance[\"Importance\"])\n",
    "plt.yticks(coordinates,df_importance[\"Feature\"])\n",
    "plt.xlabel(\"variance importance\")\n",
    "plt.ylabel(\"variance\")\n"
   ]
  },
  {
   "cell_type": "markdown",
   "metadata": {},
   "source": [
    "# 그래디언트 부스팅"
   ]
  },
  {
   "cell_type": "code",
   "execution_count": null,
   "metadata": {},
   "outputs": [],
   "source": [
    "gb_uncustomized = GradientBoostingRegressor(random_state=1234)\n",
    "gb_uncustomized.fit(df_train_x, df_train_y)\n",
    "print(\"Score on training set: {:.3f}\".format(gb_uncustomized.score(df_train_x, df_train_y)))\n",
    "print(\"Score on test set: {:.3f}\".format(gb_uncustomized.score(df_test_x, df_test_y)))\n",
    "y_pred=nn_uncustomized.predict(df_test_x)\n",
    "print(\"Accuracy:{0:.3f}\\n\".format(rf_uncustomized.score(df_test_x,df_test_y)))\n",
    "print(\"Confusion matrix:\\n{}\".format(confusion_matrix(df_test_y,y_pred)))"
   ]
  },
  {
   "cell_type": "code",
   "execution_count": null,
   "metadata": {},
   "outputs": [],
   "source": [
    "train_score = []; test_score = []\n",
    "para_n_tree = [n_tree * 10 for n_tree in range(1,11)]\n",
    "for v_n_estimators in para_n_tree:\n",
    "    gb = GradientBoostingRegressor(n_estimators= v_n_estimators, random_state=1234)\n",
    "    gb.fit(df_train_x, df_train_y)\n",
    "    train_score.append(gb.score(df_train_x, df_train_y))\n",
    "    test_score.append(gb.score(df_test_x, df_test_y))\n",
    "    \n",
    "df_score_n = pd.DataFrame()\n",
    "df_score_n[\"n_estimators\"] = para_n_tree\n",
    "df_score_n[\"TrainScore\"] = train_score\n",
    "df_score_n[\"TestScore\"] = test_score"
   ]
  },
  {
   "cell_type": "code",
   "execution_count": null,
   "metadata": {},
   "outputs": [],
   "source": [
    "plt.plot(para_n_tree, train_score, linestyle=\"-\", label=\"Train Score\")\n",
    "plt.plot(para_n_tree, test_score, linestyle=\"--\", label=\"Test Score\")\n",
    "plt.ylabel(\"score\"); plt.xlabel(\"n_estimators\")\n",
    "plt.legend()\n",
    "\n",
    "# 모델 설명력 그래프를 통해 n-estimator 값을 30으로 선택한다."
   ]
  },
  {
   "cell_type": "code",
   "execution_count": null,
   "metadata": {},
   "outputs": [],
   "source": [
    "train_score = []; test_score = []\n",
    "para_leaf = [n_leaf * 1 for n_leaf in range(1,21)]\n",
    "for v_min_samples_leaf in para_leaf:\n",
    "    gb = GradientBoostingRegressor(random_state=1234, n_estimators=80, min_samples_leaf=v_min_samples_leaf)\n",
    "    gb.fit(df_train_x, df_train_y)\n",
    "    train_score.append(gb.score(df_train_x, df_train_y))\n",
    "    test_score.append(gb.score(df_test_x, df_test_y))\n",
    "    \n",
    "df_score_leaf = pd.DataFrame()\n",
    "df_score_leaf[\"MinSamplesLeaf\"] = para_leaf\n",
    "df_score_leaf[\"TrainScore\"] = train_score\n",
    "df_score_leaf[\"TestScore\"] = test_score"
   ]
  },
  {
   "cell_type": "code",
   "execution_count": null,
   "metadata": {},
   "outputs": [],
   "source": [
    "plt.plot(para_leaf, train_score, linestyle=\"-\", label=\"Train Score\")\n",
    "plt.plot(para_leaf, test_score, linestyle=\"--\", label=\"Test Score\")\n",
    "plt.ylabel(\"score\"); plt.xlabel(\"min samples leaf\")\n",
    "plt.legend()\n",
    "\n",
    "# 모델 설명력 그래프를 통해 min-samples-leaf 값을 7로 선택한다."
   ]
  },
  {
   "cell_type": "code",
   "execution_count": null,
   "metadata": {},
   "outputs": [],
   "source": [
    "train_score=[];test_score=[]\n",
    "para_split=[n_split*2 for n_split in range(2,21)]\n",
    "\n",
    "for v_min_samples_split in para_split:\n",
    "    gb=GradientBoostingRegressor(random_state=1234,n_estimators=80, min_samples_leaf=4,min_samples_split=v_min_samples_split)\n",
    "    gb.fit(df_train_x,df_train_y)\n",
    "    train_score.append(gb.score(df_train_x,df_train_y))\n",
    "    test_score.append(gb.score(df_test_x,df_test_y))\n",
    "\n",
    "df_score_split=pd.DataFrame()\n",
    "df_score_split[\"MinSamplesSplit\"]=para_split\n",
    "df_score_split[\"TrainScore\"]=train_score\n",
    "df_score_split[\"TestScore\"]=test_score\n",
    "\n",
    "# 그래디언트 부스팅에서 min-samples-split의 최소 자료 수 변경에 따른 모델의 성능을 분석한다.\n",
    "# 위에서 정한 잎사귀 노드 값을 식에 반영한다."
   ]
  },
  {
   "cell_type": "code",
   "execution_count": null,
   "metadata": {
    "scrolled": true
   },
   "outputs": [],
   "source": [
    "plt.plot(para_split,train_score,linestyle=\"-\",label=\"Train Score\")\n",
    "plt.plot(para_split,test_score,linestyle=\"--\",label=\"Test Score\")\n",
    "plt.ylabel(\"score\"); plt.xlabel(\"min samples split\")\n",
    "plt.legend()\n"
   ]
  },
  {
   "cell_type": "code",
   "execution_count": null,
   "metadata": {},
   "outputs": [],
   "source": [
    "train_score=[];test_score=[]\n",
    "para_depth=[depth for depth in range(1,11)]\n",
    "\n",
    "for v_max_depth in para_depth:\n",
    "    gb=GradientBoostingRegressor(random_state=1234,n_estimators=80,min_samples_leaf=4,min_samples_split=15,max_depth=v_max_depth)\n",
    "    gb.fit(df_train_x,df_train_y)\n",
    "    train_score.append(gb.score(df_train_x,df_train_y))\n",
    "    test_score.append(gb.score(df_test_x,df_test_y))\n",
    "    \n",
    "df_score_depth=pd.DataFrame()\n",
    "df_score_depth[\"Depth\"]=para_depth\n",
    "df_score_depth[\"TrainScore\"]=train_score\n",
    "df_score_depth[\"TestScore\"]=test_score\n",
    "\n",
    "# 그래디언트 부스팅에서 depth의 최소 자료 수 변경에 따른 모델의 성능을 분석한다.\n",
    "# 위에서 정한 min-samples-split 값을 식에 반영한다."
   ]
  },
  {
   "cell_type": "code",
   "execution_count": null,
   "metadata": {
    "scrolled": true
   },
   "outputs": [],
   "source": [
    "plt.plot(para_depth,train_score,linestyle='-',label=\"Train Score\")\n",
    "plt.plot(para_depth,test_score,linestyle='--',label=\"Test Score\")\n",
    "plt.ylabel(\"score\"); plt.xlabel(\"max depth\")\n",
    "plt.legend()\n",
    "\n",
    "# 모델 설명력 그래프를 통해 depth 값을 4로 선택한다."
   ]
  },
  {
   "cell_type": "code",
   "execution_count": null,
   "metadata": {},
   "outputs": [],
   "source": [
    "train_score=[];test_score=[]\n",
    "para_lr=[lr*0.1 for lr in range(1,10)]\n",
    "\n",
    "for v_learning_rate in para_lr:\n",
    "    gb=GradientBoostingRegressor(random_state=1234,n_estimators=80,min_samples_leaf=4,min_samples_split=15,\\\n",
    "                                 max_depth=6, learning_rate=v_learning_rate)\n",
    "    gb.fit(df_train_x,df_train_y)\n",
    "    train_score.append(gb.score(df_train_x,df_train_y))\n",
    "    test_score.append(gb.score(df_test_x,df_test_y))\n",
    "    \n",
    "df_score_lr=pd.DataFrame()\n",
    "df_score_lr[\"Depth\"]=para_lr\n",
    "df_score_lr[\"TrainScore\"]=train_score\n",
    "df_score_lr[\"TestScore\"]=test_score"
   ]
  },
  {
   "cell_type": "code",
   "execution_count": null,
   "metadata": {},
   "outputs": [],
   "source": [
    "plt.plot(para_lr,train_score,linestyle='-',label=\"Train Score\")\n",
    "plt.plot(para_lr,test_score,linestyle='--',label=\"Test Score\")\n",
    "plt.ylabel(\"score\"); plt.xlabel(\"learning rate\")\n",
    "plt.legend()\n",
    "\n",
    "# 모델 설명력 그래프를 통해 learning_rate 값을 0.2로 선택한다."
   ]
  },
  {
   "cell_type": "markdown",
   "metadata": {},
   "source": [
    "# 최적모델"
   ]
  },
  {
   "cell_type": "code",
   "execution_count": 51,
   "metadata": {
    "scrolled": true
   },
   "outputs": [
    {
     "name": "stdout",
     "output_type": "stream",
     "text": [
      "Score on training set:0.999\n",
      "Score on validation set:0.854\n"
     ]
    }
   ],
   "source": [
    "gb_final = GradientBoostingRegressor(random_state=1234, n_estimators=80, min_samples_leaf=4, min_samples_split=15, max_depth=4,\\\n",
    "                                    learning_rate=0.3)\n",
    "gb_final.fit(df_train_x, df_train_y)\n",
    "print(\"Score on training set:{:.3f}\".format(gb_final.score(df_train_x, df_train_y)))\n",
    "print(\"Score on validation set:{:.3f}\".format(gb_final.score(df_test_x, df_test_y)))"
   ]
  },
  {
   "cell_type": "code",
   "execution_count": 52,
   "metadata": {},
   "outputs": [
    {
     "name": "stdout",
     "output_type": "stream",
     "text": [
      "Accuracy:0.938\n",
      "\n",
      "Confusion matrix:\n",
      "[[101   2]\n",
      " [  7  34]]\n"
     ]
    }
   ],
   "source": [
    "y_pred=rf_uncustomized.predict(df_test_x)\n",
    "print(\"Accuracy:{0:.3f}\\n\".format(rf_uncustomized.score(df_test_x,df_test_y)))\n",
    "print(\"Confusion matrix:\\n{}\".format(confusion_matrix(df_test_y,y_pred)))"
   ]
  },
  {
   "cell_type": "code",
   "execution_count": null,
   "metadata": {},
   "outputs": [],
   "source": [
    "v_feature_name = df_train_x.columns\n",
    "df_importance = pd.DataFrame()\n",
    "df_importance[\"Feature\"] = v_feature_name\n",
    "df_importance[\"Importance\"] = gb_final.feature_importances_\n",
    "\n",
    "df_importance.sort_values(\"Importance\", ascending=False, inplace=True)\n",
    "df_importance.round(3)\n",
    "df_importance.head(20)"
   ]
  },
  {
   "cell_type": "code",
   "execution_count": null,
   "metadata": {
    "scrolled": true
   },
   "outputs": [],
   "source": [
    "df_importance.sort_values(\"Importance\", ascending=True, inplace=True)\n",
    "coordinates = range(len(df_importance))\n",
    "plt.barh(y=coordinates, width = df_importance[\"Importance\"])\n",
    "plt.yticks(coordinates, df_importance[\"Feature\"])\n",
    "plt.xlabel(\"변수 중요도\")\n",
    "plt.ylabel(\"변수\")"
   ]
  },
  {
   "cell_type": "code",
   "execution_count": null,
   "metadata": {},
   "outputs": [],
   "source": []
  },
  {
   "cell_type": "markdown",
   "metadata": {},
   "source": [
    "# 로지스틱 회귀"
   ]
  },
  {
   "cell_type": "code",
   "execution_count": 53,
   "metadata": {
    "scrolled": true
   },
   "outputs": [
    {
     "data": {
      "text/plain": [
       "Index(['SCALE', 'SPEC', 'STEEL_KIND', 'PT_THK', 'PT_WDTH', 'PT_LTH', 'PT_WGT',\n",
       "       'FUR_NO', 'FUR_NO_ROW', 'FUR_HZ_TEMP', 'FUR_HZ_TIME', 'FUR_SZ_TEMP',\n",
       "       'FUR_SZ_TIME', 'FUR_TIME', 'FUR_EXTEMP', 'ROLLING_TEMP_T5', 'HSB',\n",
       "       'ROLLING_DESCALING', 'WORK_GR'],\n",
       "      dtype='object')"
      ]
     },
     "execution_count": 53,
     "metadata": {},
     "output_type": "execute_result"
    }
   ],
   "source": [
    "df_raw.keys()"
   ]
  },
  {
   "cell_type": "code",
   "execution_count": 54,
   "metadata": {},
   "outputs": [],
   "source": [
    "df_train,df_test,=train_test_split(df_raw,test_size=0.3,random_state=1234)"
   ]
  },
  {
   "cell_type": "code",
   "execution_count": 55,
   "metadata": {},
   "outputs": [],
   "source": [
    "log_model=Logit.from_formula(\"\"\"SCALE~ +SPEC+STEEL_KIND+PT_THK+PT_WDTH+PT_LTH+PT_WGT+FUR_NO+FUR_NO_ROW+FUR_HZ_TEMP+FUR_HZ_TIME+FUR_SZ_TEMP+FUR_SZ_TIME+FUR_TIME+FUR_EXTEMP+ROLLING_TEMP_T5+HSB+\n",
    "+ROLLING_DESCALING+WORK_GR\"\"\",df_train)"
   ]
  },
  {
   "cell_type": "code",
   "execution_count": 56,
   "metadata": {
    "scrolled": true
   },
   "outputs": [
    {
     "name": "stdout",
     "output_type": "stream",
     "text": [
      "Warning: Maximum number of iterations has been exceeded.\n",
      "         Current function value: 0.239838\n",
      "         Iterations: 35\n"
     ]
    },
    {
     "name": "stderr",
     "output_type": "stream",
     "text": [
      "c:\\users\\achin\\tf1\\lib\\site-packages\\statsmodels\\base\\model.py:568: ConvergenceWarning: Maximum Likelihood optimization failed to converge. Check mle_retvals\n",
      "  ConvergenceWarning)\n"
     ]
    }
   ],
   "source": [
    "log_result=log_model.fit()"
   ]
  },
  {
   "cell_type": "code",
   "execution_count": 57,
   "metadata": {
    "scrolled": true
   },
   "outputs": [
    {
     "name": "stdout",
     "output_type": "stream",
     "text": [
      "                           Logit Regression Results                           \n",
      "==============================================================================\n",
      "Dep. Variable:                  SCALE   No. Observations:                  504\n",
      "Model:                          Logit   Df Residuals:                      486\n",
      "Method:                           MLE   Df Model:                           17\n",
      "Date:                Mon, 23 Nov 2020   Pseudo R-squ.:                  0.6207\n",
      "Time:                        03:29:48   Log-Likelihood:                -120.88\n",
      "converged:                      False   LL-Null:                       -318.68\n",
      "Covariance Type:            nonrobust   LLR p-value:                 1.533e-73\n",
      "=====================================================================================\n",
      "                        coef    std err          z      P>|z|      [0.025      0.975]\n",
      "-------------------------------------------------------------------------------------\n",
      "Intercept            -0.8688    541.808     -0.002      0.999   -1062.793    1061.056\n",
      "SPEC                  0.0988      0.227      0.435      0.664      -0.347       0.544\n",
      "STEEL_KIND           -0.1200      0.380     -0.316      0.752      -0.866       0.625\n",
      "PT_THK               -0.4729      0.675     -0.701      0.483      -1.795       0.849\n",
      "PT_WDTH              -0.7922      0.247     -3.206      0.001      -1.276      -0.308\n",
      "PT_LTH               -0.9215      0.437     -2.106      0.035      -1.779      -0.064\n",
      "PT_WGT                0.1963      0.200      0.983      0.326      -0.195       0.588\n",
      "FUR_NO                0.1982      0.180      1.103      0.270      -0.154       0.550\n",
      "FUR_NO_ROW           -0.1210      0.171     -0.707      0.480      -0.457       0.215\n",
      "FUR_HZ_TEMP          -0.1750      0.394     -0.445      0.657      -0.946       0.596\n",
      "FUR_HZ_TIME           0.2397      0.220      1.091      0.275      -0.191       0.670\n",
      "FUR_SZ_TEMP           0.9934        nan        nan        nan         nan         nan\n",
      "FUR_SZ_TIME          -0.1916      0.237     -0.808      0.419      -0.657       0.273\n",
      "FUR_TIME              0.0959      0.248      0.387      0.699      -0.390       0.582\n",
      "FUR_EXTEMP            0.9934        nan        nan        nan         nan         nan\n",
      "ROLLING_TEMP_T5       1.9296      0.289      6.677      0.000       1.363       2.496\n",
      "HSB                  -5.4632   2472.105     -0.002      0.998   -4850.699    4839.773\n",
      "ROLLING_DESCALING    -1.0946      0.397     -2.757      0.006      -1.873      -0.316\n",
      "WORK_GR              -0.1719      0.174     -0.990      0.322      -0.512       0.168\n",
      "=====================================================================================\n"
     ]
    }
   ],
   "source": [
    "print(log_result.summary())"
   ]
  },
  {
   "cell_type": "code",
   "execution_count": 58,
   "metadata": {},
   "outputs": [],
   "source": [
    "#후진제거법 이용"
   ]
  },
  {
   "cell_type": "code",
   "execution_count": 59,
   "metadata": {
    "scrolled": true
   },
   "outputs": [
    {
     "name": "stdout",
     "output_type": "stream",
     "text": [
      "Warning: Maximum number of iterations has been exceeded.\n",
      "         Current function value: 0.239838\n",
      "         Iterations: 35\n",
      "                           Logit Regression Results                           \n",
      "==============================================================================\n",
      "Dep. Variable:                  SCALE   No. Observations:                  504\n",
      "Model:                          Logit   Df Residuals:                      486\n",
      "Method:                           MLE   Df Model:                           17\n",
      "Date:                Mon, 23 Nov 2020   Pseudo R-squ.:                  0.6207\n",
      "Time:                        03:29:50   Log-Likelihood:                -120.88\n",
      "converged:                      False   LL-Null:                       -318.68\n",
      "Covariance Type:            nonrobust   LLR p-value:                 1.533e-73\n",
      "=====================================================================================\n",
      "                        coef    std err          z      P>|z|      [0.025      0.975]\n",
      "-------------------------------------------------------------------------------------\n",
      "Intercept            -0.8687    542.650     -0.002      0.999   -1064.442    1062.705\n",
      "SPEC                  0.0988      0.227      0.435      0.664      -0.347       0.544\n",
      "STEEL_KIND           -0.1200      0.380     -0.316      0.752      -0.866       0.625\n",
      "PT_THK               -0.4729      0.675     -0.701      0.483      -1.795       0.849\n",
      "PT_WDTH              -0.7922      0.247     -3.206      0.001      -1.276      -0.308\n",
      "PT_LTH               -0.9215      0.437     -2.106      0.035      -1.779      -0.064\n",
      "PT_WGT                0.1963      0.200      0.983      0.326      -0.195       0.588\n",
      "FUR_NO                0.1982      0.180      1.103      0.270      -0.154       0.550\n",
      "FUR_NO_ROW           -0.1210      0.171     -0.707      0.480      -0.457       0.215\n",
      "FUR_HZ_TEMP          -0.1750      0.394     -0.445      0.657      -0.946       0.596\n",
      "FUR_HZ_TIME           0.2397      0.220      1.091      0.275      -0.191       0.670\n",
      "FUR_SZ_TIME          -0.1916      0.237     -0.808      0.419      -0.657       0.273\n",
      "FUR_TIME              0.0959      0.248      0.387      0.699      -0.390       0.582\n",
      "FUR_EXTEMP            1.9867      0.666      2.985      0.003       0.682       3.291\n",
      "ROLLING_TEMP_T5       1.9296      0.289      6.677      0.000       1.363       2.496\n",
      "HSB                  -5.4638   2475.944     -0.002      0.998   -4858.225    4847.297\n",
      "ROLLING_DESCALING    -1.0946      0.397     -2.757      0.006      -1.873      -0.316\n",
      "WORK_GR              -0.1719      0.174     -0.990      0.322      -0.512       0.168\n",
      "=====================================================================================\n"
     ]
    },
    {
     "name": "stderr",
     "output_type": "stream",
     "text": [
      "c:\\users\\achin\\tf1\\lib\\site-packages\\statsmodels\\base\\model.py:568: ConvergenceWarning: Maximum Likelihood optimization failed to converge. Check mle_retvals\n",
      "  ConvergenceWarning)\n"
     ]
    }
   ],
   "source": [
    "# FUR_SZ_TEMP   삭제\n",
    "log_model=Logit.from_formula(\"\"\"SCALE~ +SPEC+STEEL_KIND+PT_THK+PT_WDTH+PT_LTH+PT_WGT+FUR_NO+FUR_NO_ROW+FUR_HZ_TEMP+FUR_HZ_TIME+FUR_SZ_TIME+FUR_TIME+FUR_EXTEMP+ROLLING_TEMP_T5+HSB+\n",
    "+ROLLING_DESCALING+WORK_GR\"\"\",df_train)\n",
    "log_result=log_model.fit()\n",
    "print(log_result.summary())"
   ]
  },
  {
   "cell_type": "code",
   "execution_count": 60,
   "metadata": {},
   "outputs": [
    {
     "name": "stdout",
     "output_type": "stream",
     "text": [
      "Optimization terminated successfully.\n",
      "         Current function value: 0.336558\n",
      "         Iterations 7\n",
      "                           Logit Regression Results                           \n",
      "==============================================================================\n",
      "Dep. Variable:                  SCALE   No. Observations:                  504\n",
      "Model:                          Logit   Df Residuals:                      487\n",
      "Method:                           MLE   Df Model:                           16\n",
      "Date:                Mon, 23 Nov 2020   Pseudo R-squ.:                  0.4677\n",
      "Time:                        03:29:50   Log-Likelihood:                -169.63\n",
      "converged:                       True   LL-Null:                       -318.68\n",
      "Covariance Type:            nonrobust   LLR p-value:                 6.262e-54\n",
      "=====================================================================================\n",
      "                        coef    std err          z      P>|z|      [0.025      0.975]\n",
      "-------------------------------------------------------------------------------------\n",
      "Intercept            -1.3205      0.167     -7.888      0.000      -1.649      -0.992\n",
      "SPEC                  0.1322      0.183      0.723      0.470      -0.226       0.490\n",
      "STEEL_KIND            0.2349      0.220      1.068      0.286      -0.196       0.666\n",
      "PT_THK               -0.1917      0.543     -0.353      0.724      -1.257       0.873\n",
      "PT_WDTH              -0.4903      0.188     -2.603      0.009      -0.860      -0.121\n",
      "PT_LTH               -0.4584      0.354     -1.296      0.195      -1.152       0.235\n",
      "PT_WGT                0.0700      0.168      0.418      0.676      -0.259       0.399\n",
      "FUR_NO                0.1710      0.143      1.197      0.231      -0.109       0.451\n",
      "FUR_NO_ROW           -0.1309      0.144     -0.910      0.363      -0.413       0.151\n",
      "FUR_HZ_TEMP          -0.2234      0.277     -0.807      0.420      -0.766       0.319\n",
      "FUR_HZ_TIME           0.2610      0.186      1.405      0.160      -0.103       0.625\n",
      "FUR_SZ_TIME           0.0433      0.198      0.219      0.827      -0.344       0.431\n",
      "FUR_TIME              0.1381      0.198      0.697      0.486      -0.250       0.527\n",
      "FUR_EXTEMP            1.6692      0.449      3.715      0.000       0.789       2.550\n",
      "ROLLING_TEMP_T5       1.4583      0.216      6.741      0.000       1.034       1.882\n",
      "ROLLING_DESCALING    -0.9104      0.346     -2.632      0.008      -1.588      -0.233\n",
      "WORK_GR              -0.1135      0.143     -0.791      0.429      -0.395       0.168\n",
      "=====================================================================================\n"
     ]
    }
   ],
   "source": [
    "# HSB  삭제\n",
    "log_model=Logit.from_formula(\"\"\"SCALE~ +SPEC+STEEL_KIND+PT_THK+PT_WDTH+PT_LTH+PT_WGT+FUR_NO+FUR_NO_ROW+FUR_HZ_TEMP+FUR_HZ_TIME+FUR_SZ_TIME+FUR_TIME+FUR_EXTEMP+ROLLING_TEMP_T5+\n",
    "+ROLLING_DESCALING+WORK_GR\"\"\",df_train)\n",
    "log_result=log_model.fit()\n",
    "print(log_result.summary())"
   ]
  },
  {
   "cell_type": "code",
   "execution_count": 61,
   "metadata": {
    "scrolled": true
   },
   "outputs": [
    {
     "name": "stdout",
     "output_type": "stream",
     "text": [
      "Optimization terminated successfully.\n",
      "         Current function value: 0.337806\n",
      "         Iterations 7\n",
      "                           Logit Regression Results                           \n",
      "==============================================================================\n",
      "Dep. Variable:                  SCALE   No. Observations:                  504\n",
      "Model:                          Logit   Df Residuals:                      489\n",
      "Method:                           MLE   Df Model:                           14\n",
      "Date:                Mon, 23 Nov 2020   Pseudo R-squ.:                  0.4658\n",
      "Time:                        03:29:51   Log-Likelihood:                -170.25\n",
      "converged:                       True   LL-Null:                       -318.68\n",
      "Covariance Type:            nonrobust   LLR p-value:                 5.341e-55\n",
      "=====================================================================================\n",
      "                        coef    std err          z      P>|z|      [0.025      0.975]\n",
      "-------------------------------------------------------------------------------------\n",
      "Intercept            -1.3022      0.165     -7.900      0.000      -1.625      -0.979\n",
      "SPEC                  0.0735      0.172      0.427      0.669      -0.263       0.410\n",
      "STEEL_KIND            0.2488      0.216      1.152      0.249      -0.175       0.672\n",
      "PT_THK               -0.2567      0.515     -0.498      0.618      -1.266       0.753\n",
      "PT_WDTH              -0.4824      0.188     -2.571      0.010      -0.850      -0.115\n",
      "PT_LTH               -0.4981      0.346     -1.439      0.150      -1.177       0.180\n",
      "PT_WGT                0.0876      0.165      0.532      0.595      -0.235       0.410\n",
      "FUR_NO                0.1926      0.142      1.357      0.175      -0.086       0.471\n",
      "FUR_NO_ROW           -0.1393      0.142     -0.980      0.327      -0.418       0.139\n",
      "FUR_HZ_TIME           0.2225      0.180      1.237      0.216      -0.130       0.575\n",
      "FUR_SZ_TIME           0.0477      0.197      0.243      0.808      -0.338       0.433\n",
      "FUR_TIME              0.1592      0.198      0.806      0.420      -0.228       0.546\n",
      "FUR_EXTEMP            1.4218      0.295      4.817      0.000       0.843       2.000\n",
      "ROLLING_TEMP_T5       1.5016      0.208      7.231      0.000       1.095       1.909\n",
      "ROLLING_DESCALING    -0.9260      0.342     -2.704      0.007      -1.597      -0.255\n",
      "=====================================================================================\n"
     ]
    }
   ],
   "source": [
    "# FUR_HZ_TEMP +WORK_GR 삭제\n",
    "log_model=Logit.from_formula(\"\"\"SCALE~ +SPEC+STEEL_KIND+PT_THK+PT_WDTH+PT_LTH+PT_WGT+FUR_NO+FUR_NO_ROW+FUR_HZ_TIME+FUR_SZ_TIME+FUR_TIME+FUR_EXTEMP+ROLLING_TEMP_T5+\n",
    "+ROLLING_DESCALING\"\"\",df_train)\n",
    "log_result=log_model.fit()\n",
    "print(log_result.summary())"
   ]
  },
  {
   "cell_type": "code",
   "execution_count": 62,
   "metadata": {},
   "outputs": [
    {
     "name": "stdout",
     "output_type": "stream",
     "text": [
      "Optimization terminated successfully.\n",
      "         Current function value: 0.338451\n",
      "         Iterations 7\n",
      "                           Logit Regression Results                           \n",
      "==============================================================================\n",
      "Dep. Variable:                  SCALE   No. Observations:                  504\n",
      "Model:                          Logit   Df Residuals:                      490\n",
      "Method:                           MLE   Df Model:                           13\n",
      "Date:                Mon, 23 Nov 2020   Pseudo R-squ.:                  0.4647\n",
      "Time:                        03:29:57   Log-Likelihood:                -170.58\n",
      "converged:                       True   LL-Null:                       -318.68\n",
      "Covariance Type:            nonrobust   LLR p-value:                 1.494e-55\n",
      "=====================================================================================\n",
      "                        coef    std err          z      P>|z|      [0.025      0.975]\n",
      "-------------------------------------------------------------------------------------\n",
      "Intercept            -1.3020      0.165     -7.894      0.000      -1.625      -0.979\n",
      "SPEC                  0.0777      0.172      0.453      0.651      -0.259       0.414\n",
      "STEEL_KIND            0.2255      0.213      1.061      0.289      -0.191       0.642\n",
      "PT_THK               -0.2508      0.515     -0.487      0.626      -1.260       0.758\n",
      "PT_WDTH              -0.5318      0.178     -2.986      0.003      -0.881      -0.183\n",
      "PT_LTH               -0.4665      0.343     -1.359      0.174      -1.139       0.206\n",
      "PT_WGT                0.1001      0.163      0.614      0.539      -0.220       0.420\n",
      "FUR_NO                0.1859      0.141      1.314      0.189      -0.091       0.463\n",
      "FUR_NO_ROW           -0.1392      0.142     -0.980      0.327      -0.418       0.139\n",
      "FUR_HZ_TIME           0.2876      0.161      1.785      0.074      -0.028       0.603\n",
      "FUR_SZ_TIME           0.1176      0.177      0.663      0.508      -0.230       0.465\n",
      "FUR_EXTEMP            1.4166      0.295      4.798      0.000       0.838       1.995\n",
      "ROLLING_TEMP_T5       1.4894      0.206      7.234      0.000       1.086       1.893\n",
      "ROLLING_DESCALING    -0.9113      0.340     -2.678      0.007      -1.578      -0.244\n",
      "=====================================================================================\n"
     ]
    }
   ],
   "source": [
    "# +FUR_TIME  삭제\n",
    "log_model=Logit.from_formula(\"\"\"SCALE~ +SPEC+STEEL_KIND+PT_THK+PT_WDTH+PT_LTH+PT_WGT+FUR_NO+FUR_NO_ROW+FUR_HZ_TIME+FUR_SZ_TIME+FUR_EXTEMP+ROLLING_TEMP_T5+\n",
    "+ROLLING_DESCALING\"\"\",df_train)\n",
    "log_result=log_model.fit()\n",
    "print(log_result.summary())"
   ]
  },
  {
   "cell_type": "code",
   "execution_count": 63,
   "metadata": {},
   "outputs": [
    {
     "name": "stdout",
     "output_type": "stream",
     "text": [
      "Optimization terminated successfully.\n",
      "         Current function value: 0.340294\n",
      "         Iterations 7\n",
      "                           Logit Regression Results                           \n",
      "==============================================================================\n",
      "Dep. Variable:                  SCALE   No. Observations:                  504\n",
      "Model:                          Logit   Df Residuals:                      491\n",
      "Method:                           MLE   Df Model:                           12\n",
      "Date:                Mon, 23 Nov 2020   Pseudo R-squ.:                  0.4618\n",
      "Time:                        03:29:57   Log-Likelihood:                -171.51\n",
      "converged:                       True   LL-Null:                       -318.68\n",
      "Covariance Type:            nonrobust   LLR p-value:                 7.203e-56\n",
      "=====================================================================================\n",
      "                        coef    std err          z      P>|z|      [0.025      0.975]\n",
      "-------------------------------------------------------------------------------------\n",
      "Intercept            -1.2898      0.164     -7.842      0.000      -1.612      -0.967\n",
      "SPEC                  0.0954      0.172      0.555      0.579      -0.241       0.432\n",
      "STEEL_KIND            0.2084      0.212      0.982      0.326      -0.207       0.624\n",
      "PT_THK                0.1319      0.429      0.308      0.758      -0.708       0.972\n",
      "PT_WDTH              -0.4454      0.165     -2.702      0.007      -0.768      -0.122\n",
      "PT_WGT                0.0253      0.153      0.165      0.869      -0.275       0.326\n",
      "FUR_NO                0.1466      0.137      1.067      0.286      -0.123       0.416\n",
      "FUR_NO_ROW           -0.1206      0.141     -0.856      0.392      -0.397       0.155\n",
      "FUR_HZ_TIME           0.2748      0.161      1.711      0.087      -0.040       0.590\n",
      "FUR_SZ_TIME           0.0949      0.177      0.536      0.592      -0.252       0.442\n",
      "FUR_EXTEMP            1.3920      0.295      4.719      0.000       0.814       1.970\n",
      "ROLLING_TEMP_T5       1.5175      0.207      7.339      0.000       1.112       1.923\n",
      "ROLLING_DESCALING    -0.9469      0.339     -2.794      0.005      -1.611      -0.283\n",
      "=====================================================================================\n"
     ]
    }
   ],
   "source": [
    "# +PT_LTH  삭제\n",
    "log_model=Logit.from_formula(\"\"\"SCALE~ +SPEC+STEEL_KIND+PT_THK+PT_WDTH+PT_WGT+FUR_NO+FUR_NO_ROW+FUR_HZ_TIME+FUR_SZ_TIME+FUR_EXTEMP+ROLLING_TEMP_T5+\n",
    "+ROLLING_DESCALING\"\"\",df_train)\n",
    "log_result=log_model.fit()\n",
    "print(log_result.summary())"
   ]
  },
  {
   "cell_type": "code",
   "execution_count": 64,
   "metadata": {
    "scrolled": true
   },
   "outputs": [
    {
     "name": "stdout",
     "output_type": "stream",
     "text": [
      "Optimization terminated successfully.\n",
      "         Current function value: 0.340580\n",
      "         Iterations 7\n",
      "                           Logit Regression Results                           \n",
      "==============================================================================\n",
      "Dep. Variable:                  SCALE   No. Observations:                  504\n",
      "Model:                          Logit   Df Residuals:                      492\n",
      "Method:                           MLE   Df Model:                           11\n",
      "Date:                Mon, 23 Nov 2020   Pseudo R-squ.:                  0.4614\n",
      "Time:                        03:29:58   Log-Likelihood:                -171.65\n",
      "converged:                       True   LL-Null:                       -318.68\n",
      "Covariance Type:            nonrobust   LLR p-value:                 1.560e-56\n",
      "=====================================================================================\n",
      "                        coef    std err          z      P>|z|      [0.025      0.975]\n",
      "-------------------------------------------------------------------------------------\n",
      "Intercept            -1.2945      0.165     -7.865      0.000      -1.617      -0.972\n",
      "SPEC                  0.0972      0.172      0.566      0.571      -0.239       0.434\n",
      "STEEL_KIND            0.2144      0.213      1.007      0.314      -0.203       0.632\n",
      "PT_THK                0.1679      0.425      0.395      0.693      -0.665       1.001\n",
      "PT_WDTH              -0.4520      0.165     -2.747      0.006      -0.775      -0.130\n",
      "PT_WGT                0.0282      0.153      0.184      0.854      -0.272       0.328\n",
      "FUR_NO                0.1373      0.136      1.007      0.314      -0.130       0.405\n",
      "FUR_NO_ROW           -0.1078      0.139     -0.778      0.437      -0.379       0.164\n",
      "FUR_HZ_TIME           0.2619      0.159      1.651      0.099      -0.049       0.573\n",
      "FUR_EXTEMP            1.3555      0.286      4.736      0.000       0.795       1.917\n",
      "ROLLING_TEMP_T5       1.5142      0.207      7.332      0.000       1.109       1.919\n",
      "ROLLING_DESCALING    -0.9345      0.338     -2.767      0.006      -1.597      -0.272\n",
      "=====================================================================================\n"
     ]
    }
   ],
   "source": [
    "# ++FUR_SZ_TIME  삭제\n",
    "log_model=Logit.from_formula(\"\"\"SCALE~ +SPEC+STEEL_KIND+PT_THK+PT_WDTH+PT_WGT+FUR_NO+FUR_NO_ROW+FUR_HZ_TIME+FUR_EXTEMP+ROLLING_TEMP_T5+\n",
    "+ROLLING_DESCALING\"\"\",df_train)\n",
    "log_result=log_model.fit()\n",
    "print(log_result.summary())"
   ]
  },
  {
   "cell_type": "code",
   "execution_count": 65,
   "metadata": {
    "scrolled": false
   },
   "outputs": [
    {
     "name": "stdout",
     "output_type": "stream",
     "text": [
      "Optimization terminated successfully.\n",
      "         Current function value: 0.345795\n",
      "         Iterations 7\n",
      "                           Logit Regression Results                           \n",
      "==============================================================================\n",
      "Dep. Variable:                  SCALE   No. Observations:                  504\n",
      "Model:                          Logit   Df Residuals:                      497\n",
      "Method:                           MLE   Df Model:                            6\n",
      "Date:                Mon, 23 Nov 2020   Pseudo R-squ.:                  0.4531\n",
      "Time:                        03:29:58   Log-Likelihood:                -174.28\n",
      "converged:                       True   LL-Null:                       -318.68\n",
      "Covariance Type:            nonrobust   LLR p-value:                 2.046e-59\n",
      "=====================================================================================\n",
      "                        coef    std err          z      P>|z|      [0.025      0.975]\n",
      "-------------------------------------------------------------------------------------\n",
      "Intercept            -1.2768      0.163     -7.820      0.000      -1.597      -0.957\n",
      "STEEL_KIND            0.2315      0.191      1.211      0.226      -0.143       0.606\n",
      "PT_THK                0.2475      0.407      0.608      0.543      -0.550       1.045\n",
      "PT_WDTH              -0.4509      0.158     -2.862      0.004      -0.760      -0.142\n",
      "FUR_EXTEMP            1.2755      0.273      4.678      0.000       0.741       1.810\n",
      "ROLLING_TEMP_T5       1.5419      0.194      7.959      0.000       1.162       1.922\n",
      "ROLLING_DESCALING    -0.9079      0.324     -2.799      0.005      -1.544      -0.272\n",
      "=====================================================================================\n"
     ]
    }
   ],
   "source": [
    "# +FUR_NO_ROW +SPEC +PT_WGT +FUR_NO   삭제\n",
    "log_model=Logit.from_formula(\"\"\"SCALE~ +STEEL_KIND+PT_THK+PT_WDTH+FUR_EXTEMP+ROLLING_TEMP_T5\n",
    "+ROLLING_DESCALING\"\"\",df_train)\n",
    "log_result=log_model.fit()\n",
    "print(log_result.summary())"
   ]
  },
  {
   "cell_type": "code",
   "execution_count": 66,
   "metadata": {},
   "outputs": [
    {
     "ename": "SyntaxError",
     "evalue": "invalid syntax (<ipython-input-66-8c8a097bf312>, line 1)",
     "output_type": "error",
     "traceback": [
      "\u001b[1;36m  File \u001b[1;32m\"<ipython-input-66-8c8a097bf312>\"\u001b[1;36m, line \u001b[1;32m1\u001b[0m\n\u001b[1;33m    결론: R=sq가 43%여서 사용가능할것같지 않음\u001b[0m\n\u001b[1;37m               ^\u001b[0m\n\u001b[1;31mSyntaxError\u001b[0m\u001b[1;31m:\u001b[0m invalid syntax\n"
     ]
    }
   ],
   "source": [
    "결론: R=sq가 43%여서 사용가능할것같지 않음"
   ]
  },
  {
   "cell_type": "code",
   "execution_count": 67,
   "metadata": {},
   "outputs": [
    {
     "data": {
      "text/plain": [
       "<matplotlib.axes._subplots.AxesSubplot at 0x1a10955f1d0>"
      ]
     },
     "execution_count": 67,
     "metadata": {},
     "output_type": "execute_result"
    },
    {
     "data": {
      "image/png": "[encoded data removed]",
      "text/plain": [
       "<Figure size 720x1080 with 1 Axes>"
      ]
     },
     "metadata": {
      "needs_background": "light"
     },
     "output_type": "display_data"
    }
   ],
   "source": [
    "df_logistic_coef=pd.DataFrame({\"Coef\":log_result.params.values[1:]},index=log_model.exog_names[1:])\n",
    "\n",
    "df_logistic_coef.plot.barh(y=\"Coef\",figsize=(10,15))"
   ]
  },
  {
   "cell_type": "code",
   "execution_count": null,
   "metadata": {},
   "outputs": [],
   "source": []
  },
  {
   "cell_type": "code",
   "execution_count": null,
   "metadata": {},
   "outputs": [],
   "source": []
  },
  {
   "cell_type": "code",
   "execution_count": null,
   "metadata": {},
   "outputs": [],
   "source": []
  },
  {
   "cell_type": "code",
   "execution_count": null,
   "metadata": {},
   "outputs": [],
   "source": []
  },
  {
   "cell_type": "code",
   "execution_count": null,
   "metadata": {},
   "outputs": [],
   "source": []
  },
  {
   "cell_type": "code",
   "execution_count": null,
   "metadata": {},
   "outputs": [],
   "source": [
    "df_logistic_coef=pd.DataFrame({\"Coef\":log_result.params.values[1:]},index=log_model.exog_names[1:])\n",
    "\n",
    "df_logistic_coef.plot.barh(y=\"Coef\",figsize=(10,15))"
   ]
  },
  {
   "cell_type": "code",
   "execution_count": null,
   "metadata": {},
   "outputs": [],
   "source": []
  },
  {
   "cell_type": "markdown",
   "metadata": {},
   "source": [
    "# SVC"
   ]
  },
  {
   "cell_type": "code",
   "execution_count": null,
   "metadata": {},
   "outputs": [],
   "source": [
    "# scaled 조정 후 모델 재실행\n",
    "\n",
    "svm_scaled = SVC(random_state=1234)\n",
    "svm_scaled.fit(df_train_x, df_train_y)\n",
    "print('Accuracy on training set:{:.3f}'.format(svm_scaled.score(df_train_x, df_train_y)))\n",
    "print('Accuracy on test set:{:.3f}'.format(svm_scaled.score(df_val_x, df_val_y)))"
   ]
  },
  {
   "cell_type": "code",
   "execution_count": null,
   "metadata": {},
   "outputs": [],
   "source": [
    "#평가\n",
    "y_pred = svm_scaled.predict(df_test_x)\n",
    "print(\"Accuracy:{0:.3f}\\n\".format(tree_final.score(df_test_x,df_test_y)))\n",
    "print(\"Confusion matrix\\n{}\".format(confusion_matrix(df_test_y,y_pred)))"
   ]
  },
  {
   "cell_type": "code",
   "execution_count": null,
   "metadata": {},
   "outputs": [],
   "source": [
    "# c ~ 규제에 대한 강도 변경\n",
    "train_accuracy = []; test_accuracy=[]\n",
    "para_c = [10**c for c in range(-2,4)]\n",
    "\n",
    "for v_C in para_c:\n",
    "    svm = SVC(C=v_C, random_state=1234)\n",
    "    svm.fit(df_train_x, df_train_y)\n",
    "    train_accuracy.append(svm.score(df_train_x, df_train_y))\n",
    "    test_accuracy.append(svm.score(df_val_x, df_val_y))\n",
    "    \n",
    "df_accuracy_c = pd.DataFrame()\n",
    "df_accuracy_c['C'] = para_c\n",
    "df_accuracy_c['TrainAccuracy'] = train_accuracy\n",
    "df_accuracy_c['TestAccuracy'] =test_accuracy"
   ]
  },
  {
   "cell_type": "code",
   "execution_count": null,
   "metadata": {},
   "outputs": [],
   "source": [
    "plt.plot(para_c, train_accuracy, linestyle='-', label='TrainAccuracy')\n",
    "plt.plot(para_c, test_accuracy, linestyle='-', label='ValAccuracy')\n",
    "plt.ylabel('accuracy');plt.xlabel('C')\n",
    "plt.legend()"
   ]
  },
  {
   "cell_type": "code",
   "execution_count": null,
   "metadata": {},
   "outputs": [],
   "source": [
    "# Gamma\n",
    "train_accuracy = []; test_accuracy=[]\n",
    "para_gamma = [10**gamma for gamma in range(-4,2)]\n",
    "\n",
    "for v_gamma in para_gamma:\n",
    "    svm = SVC(gamma=v_gamma,C=10, random_state=1234)\n",
    "    svm.fit(df_train_x, df_train_y)\n",
    "    train_accuracy.append(svm.score(df_train_x, df_train_y))\n",
    "    test_accuracy.append(svm.score(df_val_x, df_val_y))\n",
    "    \n",
    "df_accuracy_gamma = pd.DataFrame()\n",
    "df_accuracy_gamma['gamma'] = para_gamma\n",
    "df_accuracy_gamma['TrainAccuracy'] = train_accuracy\n",
    "df_accuracy_gamma['TestAccuracy'] =test_accuracy"
   ]
  },
  {
   "cell_type": "code",
   "execution_count": null,
   "metadata": {},
   "outputs": [],
   "source": [
    "plt.plot(para_gamma, train_accuracy, linestyle='-', label='TrainAccuracy')\n",
    "plt.plot(para_gamma, test_accuracy, linestyle='-', label='ValAccuracy')\n",
    "plt.ylabel('accuracy');plt.xlabel('gamma')\n",
    "plt.legend()"
   ]
  },
  {
   "cell_type": "markdown",
   "metadata": {},
   "source": [
    "### final 모델"
   ]
  },
  {
   "cell_type": "code",
   "execution_count": 68,
   "metadata": {},
   "outputs": [
    {
     "name": "stdout",
     "output_type": "stream",
     "text": [
      "Accuracy on training set:1.000\n",
      "Accuracy on test set:0.847\n",
      "Confusion matirx:\n",
      "[[92 11]\n",
      " [11 30]]\n"
     ]
    }
   ],
   "source": [
    "svc_final = SVC(gamma=0.1, C=10, random_state=1234)\n",
    "svc_final.fit(df_train_x, df_train_y)\n",
    "\n",
    "y_pred = svc_final.predict(df_test_x)\n",
    "print('Accuracy on training set:{:.3f}'.format(svc_final.score(df_train_x, df_train_y)))\n",
    "print('Accuracy on test set:{:.3f}'.format(svc_final.score(df_test_x, df_test_y)))\n",
    "print('Confusion matirx:\\n{}'.format(confusion_matrix(df_test_y, y_pred)))"
   ]
  },
  {
   "cell_type": "markdown",
   "metadata": {},
   "source": [
    "# 범주형 변수도 확인"
   ]
  },
  {
   "cell_type": "code",
   "execution_count": null,
   "metadata": {},
   "outputs": [],
   "source": [
    "df_new=df_raw[['STEEL_KIND','SCALE']]\n",
    "df_new.boxplot(figsize=(10,10),by='STEEL_KIND')"
   ]
  },
  {
   "cell_type": "code",
   "execution_count": null,
   "metadata": {
    "scrolled": true
   },
   "outputs": [],
   "source": [
    "sns.pairplot(df_raw[['STEEL_KIND','SCALE']])"
   ]
  },
  {
   "cell_type": "code",
   "execution_count": null,
   "metadata": {},
   "outputs": [],
   "source": []
  },
  {
   "cell_type": "code",
   "execution_count": null,
   "metadata": {},
   "outputs": [],
   "source": []
  },
  {
   "cell_type": "code",
   "execution_count": null,
   "metadata": {},
   "outputs": [],
   "source": []
  },
  {
   "cell_type": "code",
   "execution_count": null,
   "metadata": {},
   "outputs": [],
   "source": []
  },
  {
   "cell_type": "code",
   "execution_count": null,
   "metadata": {},
   "outputs": [],
   "source": []
  },
  {
   "cell_type": "code",
   "execution_count": null,
   "metadata": {},
   "outputs": [],
   "source": [
    "plt.hist(df_new['FUR_TIME'])"
   ]
  },
  {
   "cell_type": "code",
   "execution_count": null,
   "metadata": {},
   "outputs": [],
   "source": []
  },
  {
   "cell_type": "code",
   "execution_count": null,
   "metadata": {},
   "outputs": [],
   "source": []
  },
  {
   "cell_type": "code",
   "execution_count": null,
   "metadata": {},
   "outputs": [],
   "source": []
  },
  {
   "cell_type": "code",
   "execution_count": null,
   "metadata": {},
   "outputs": [],
   "source": []
  }
 ],
 "metadata": {
  "kernelspec": {
   "display_name": "Python 3",
   "language": "python",
   "name": "python3"
  },
  "language_info": {
   "codemirror_mode": {
    "name": "ipython",
    "version": 3
   },
   "file_extension": ".py",
   "mimetype": "text/x-python",
   "name": "python",
   "nbconvert_exporter": "python",
   "pygments_lexer": "ipython3",
   "version": "3.6.8"
  }
 },
 "nbformat": 4,
 "nbformat_minor": 4
}
